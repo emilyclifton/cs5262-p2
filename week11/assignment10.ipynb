{
  "nbformat": 4,
  "nbformat_minor": 0,
  "metadata": {
    "kernelspec": {
      "name": "python3",
      "display_name": "Python 3"
    },
    "colab": {
      "provenance": [],
      "machine_shape": "hm",
      "gpuType": "A100",
      "include_colab_link": true
    },
    "accelerator": "GPU"
  },
  "cells": [
    {
      "cell_type": "markdown",
      "metadata": {
        "id": "view-in-github",
        "colab_type": "text"
      },
      "source": [
        "<a href=\"https://colab.research.google.com/github/emilyclifton/cs5262-p2/blob/main/week11/assignment10.ipynb\" target=\"_parent\"><img src=\"https://colab.research.google.com/assets/colab-badge.svg\" alt=\"Open In Colab\"/></a>"
      ]
    },
    {
      "cell_type": "markdown",
      "source": [
        "# Assignment 10\n",
        "### _Emily Clifton_\n",
        "### _CS5262_"
      ],
      "metadata": {
        "id": "XndfAYYNChWj"
      }
    },
    {
      "cell_type": "markdown",
      "metadata": {
        "id": "yeIXFfAumNWV"
      },
      "source": [
        "# Neural Network In Pytorch\n",
        "This assignment aims to get familiarized with building the whole pipeline of deep learning in Pytorch to perform classification and test it out on the CIFAR-10 dataset. All the code will be implemented in this notebook."
      ]
    },
    {
      "cell_type": "code",
      "metadata": {
        "id": "_BD5dqNGm1b6",
        "colab": {
          "base_uri": "https://localhost:8080/",
          "height": 0
        },
        "outputId": "8521cb28-872e-457a-c071-d347b7f3ba84"
      },
      "source": [
        "from google.colab import drive\n",
        "drive.mount('/content/gdrive')"
      ],
      "execution_count": 1,
      "outputs": [
        {
          "output_type": "stream",
          "name": "stdout",
          "text": [
            "Mounted at /content/gdrive\n"
          ]
        }
      ]
    },
    {
      "cell_type": "code",
      "metadata": {
        "id": "J3HggVCdm8iV",
        "colab": {
          "base_uri": "https://localhost:8080/",
          "height": 0
        },
        "outputId": "1904f805-adda-4f4e-ddae-d0aea8fd5ae6"
      },
      "source": [
        "%cd gdrive/MyDrive/Colab\\ Notebooks/HW3_Full"
      ],
      "execution_count": 2,
      "outputs": [
        {
          "output_type": "stream",
          "name": "stdout",
          "text": [
            "/content/gdrive/MyDrive/Colab Notebooks/HW3_Full\n"
          ]
        }
      ]
    },
    {
      "cell_type": "markdown",
      "metadata": {
        "id": "soWnE8qOuQwg"
      },
      "source": [
        "First, let's install modules not already installed by Google Colab."
      ]
    },
    {
      "cell_type": "code",
      "metadata": {
        "id": "75XndHcNuL0r",
        "colab": {
          "base_uri": "https://localhost:8080/",
          "height": 0
        },
        "outputId": "14d05eea-bc67-4e07-99ad-3907f162d629"
      },
      "source": [
        "! pip install torch_utils"
      ],
      "execution_count": 3,
      "outputs": [
        {
          "output_type": "stream",
          "name": "stdout",
          "text": [
            "Collecting torch_utils\n",
            "  Downloading torch-utils-0.1.2.tar.gz (4.9 kB)\n",
            "  Preparing metadata (setup.py) ... \u001b[?25l\u001b[?25hdone\n",
            "Requirement already satisfied: torch in /usr/local/lib/python3.10/dist-packages (from torch_utils) (2.2.1+cu121)\n",
            "Requirement already satisfied: filelock in /usr/local/lib/python3.10/dist-packages (from torch->torch_utils) (3.13.4)\n",
            "Requirement already satisfied: typing-extensions>=4.8.0 in /usr/local/lib/python3.10/dist-packages (from torch->torch_utils) (4.11.0)\n",
            "Requirement already satisfied: sympy in /usr/local/lib/python3.10/dist-packages (from torch->torch_utils) (1.12)\n",
            "Requirement already satisfied: networkx in /usr/local/lib/python3.10/dist-packages (from torch->torch_utils) (3.3)\n",
            "Requirement already satisfied: jinja2 in /usr/local/lib/python3.10/dist-packages (from torch->torch_utils) (3.1.3)\n",
            "Requirement already satisfied: fsspec in /usr/local/lib/python3.10/dist-packages (from torch->torch_utils) (2023.6.0)\n",
            "Collecting nvidia-cuda-nvrtc-cu12==12.1.105 (from torch->torch_utils)\n",
            "  Using cached nvidia_cuda_nvrtc_cu12-12.1.105-py3-none-manylinux1_x86_64.whl (23.7 MB)\n",
            "Collecting nvidia-cuda-runtime-cu12==12.1.105 (from torch->torch_utils)\n",
            "  Using cached nvidia_cuda_runtime_cu12-12.1.105-py3-none-manylinux1_x86_64.whl (823 kB)\n",
            "Collecting nvidia-cuda-cupti-cu12==12.1.105 (from torch->torch_utils)\n",
            "  Using cached nvidia_cuda_cupti_cu12-12.1.105-py3-none-manylinux1_x86_64.whl (14.1 MB)\n",
            "Collecting nvidia-cudnn-cu12==8.9.2.26 (from torch->torch_utils)\n",
            "  Using cached nvidia_cudnn_cu12-8.9.2.26-py3-none-manylinux1_x86_64.whl (731.7 MB)\n",
            "Collecting nvidia-cublas-cu12==12.1.3.1 (from torch->torch_utils)\n",
            "  Using cached nvidia_cublas_cu12-12.1.3.1-py3-none-manylinux1_x86_64.whl (410.6 MB)\n",
            "Collecting nvidia-cufft-cu12==11.0.2.54 (from torch->torch_utils)\n",
            "  Using cached nvidia_cufft_cu12-11.0.2.54-py3-none-manylinux1_x86_64.whl (121.6 MB)\n",
            "Collecting nvidia-curand-cu12==10.3.2.106 (from torch->torch_utils)\n",
            "  Using cached nvidia_curand_cu12-10.3.2.106-py3-none-manylinux1_x86_64.whl (56.5 MB)\n",
            "Collecting nvidia-cusolver-cu12==11.4.5.107 (from torch->torch_utils)\n",
            "  Using cached nvidia_cusolver_cu12-11.4.5.107-py3-none-manylinux1_x86_64.whl (124.2 MB)\n",
            "Collecting nvidia-cusparse-cu12==12.1.0.106 (from torch->torch_utils)\n",
            "  Using cached nvidia_cusparse_cu12-12.1.0.106-py3-none-manylinux1_x86_64.whl (196.0 MB)\n",
            "Collecting nvidia-nccl-cu12==2.19.3 (from torch->torch_utils)\n",
            "  Using cached nvidia_nccl_cu12-2.19.3-py3-none-manylinux1_x86_64.whl (166.0 MB)\n",
            "Collecting nvidia-nvtx-cu12==12.1.105 (from torch->torch_utils)\n",
            "  Using cached nvidia_nvtx_cu12-12.1.105-py3-none-manylinux1_x86_64.whl (99 kB)\n",
            "Requirement already satisfied: triton==2.2.0 in /usr/local/lib/python3.10/dist-packages (from torch->torch_utils) (2.2.0)\n",
            "Collecting nvidia-nvjitlink-cu12 (from nvidia-cusolver-cu12==11.4.5.107->torch->torch_utils)\n",
            "  Using cached nvidia_nvjitlink_cu12-12.4.127-py3-none-manylinux2014_x86_64.whl (21.1 MB)\n",
            "Requirement already satisfied: MarkupSafe>=2.0 in /usr/local/lib/python3.10/dist-packages (from jinja2->torch->torch_utils) (2.1.5)\n",
            "Requirement already satisfied: mpmath>=0.19 in /usr/local/lib/python3.10/dist-packages (from sympy->torch->torch_utils) (1.3.0)\n",
            "Building wheels for collected packages: torch_utils\n",
            "  Building wheel for torch_utils (setup.py) ... \u001b[?25l\u001b[?25hdone\n",
            "  Created wheel for torch_utils: filename=torch_utils-0.1.2-py3-none-any.whl size=6186 sha256=7bf2df437ba45c07b7c749de54555f7e0f5800763a0037742b11d0dd82f5753a\n",
            "  Stored in directory: /root/.cache/pip/wheels/76/08/f0/378d1fe4aac5aa1e21483918d70b7e3428c4faaac0abda4e15\n",
            "Successfully built torch_utils\n",
            "Installing collected packages: nvidia-nvtx-cu12, nvidia-nvjitlink-cu12, nvidia-nccl-cu12, nvidia-curand-cu12, nvidia-cufft-cu12, nvidia-cuda-runtime-cu12, nvidia-cuda-nvrtc-cu12, nvidia-cuda-cupti-cu12, nvidia-cublas-cu12, nvidia-cusparse-cu12, nvidia-cudnn-cu12, nvidia-cusolver-cu12, torch_utils\n",
            "Successfully installed nvidia-cublas-cu12-12.1.3.1 nvidia-cuda-cupti-cu12-12.1.105 nvidia-cuda-nvrtc-cu12-12.1.105 nvidia-cuda-runtime-cu12-12.1.105 nvidia-cudnn-cu12-8.9.2.26 nvidia-cufft-cu12-11.0.2.54 nvidia-curand-cu12-10.3.2.106 nvidia-cusolver-cu12-11.4.5.107 nvidia-cusparse-cu12-12.1.0.106 nvidia-nccl-cu12-2.19.3 nvidia-nvjitlink-cu12-12.4.127 nvidia-nvtx-cu12-12.1.105 torch_utils-0.1.2\n"
          ]
        }
      ]
    },
    {
      "cell_type": "code",
      "source": [
        "# Data utils from data_util.py\n",
        "from __future__ import print_function\n",
        "\n",
        "from six.moves import cPickle as pickle\n",
        "import numpy as np\n",
        "import os\n",
        "# from scipy.misc import imread\n",
        "import imageio\n",
        "import platform\n",
        "\n",
        "def load_pickle(f):\n",
        "    version = platform.python_version_tuple()\n",
        "    if version[0] == '2':\n",
        "        return pickle.load(f)\n",
        "    elif version[0] == '3':\n",
        "        return pickle.load(f, encoding='latin1')\n",
        "    raise ValueError(\"invalid python version: {}\".format(version))\n",
        "\n",
        "\n",
        "def load_CIFAR_batch(filename):\n",
        "    \"\"\" load single batch of cifar \"\"\"\n",
        "    with open(filename, 'rb') as f:\n",
        "        datadict = load_pickle(f)\n",
        "        X = datadict['data']\n",
        "        Y = datadict['labels']\n",
        "        if (mt == 'bmodel'):\n",
        "          X = X.reshape(10000, 3, 32, 32).transpose(0, 2, 3, 1).astype(\"float\")\n",
        "        else:\n",
        "          X = X.reshape(10000, 3, 32, 32).astype(\"float\")\n",
        "        Y = np.array(Y)\n",
        "        return X, Y\n",
        "\n",
        "\n",
        "def load_CIFAR10(ROOT):\n",
        "    \"\"\" load all of cifar \"\"\"\n",
        "    xs = []\n",
        "    ys = []\n",
        "    for b in range(1, 6):\n",
        "        f = os.path.join(ROOT, 'data_batch_%d' % (b,))\n",
        "        X, Y = load_CIFAR_batch(f)\n",
        "        xs.append(X)\n",
        "        ys.append(Y)\n",
        "    Xtr = np.concatenate(xs)\n",
        "    Ytr = np.concatenate(ys)\n",
        "    del X, Y\n",
        "    Xte, Yte = load_CIFAR_batch(os.path.join(ROOT, 'test_batch'))\n",
        "    return Xtr, Ytr, Xte, Yte\n",
        "\n",
        "def load_tiny_imagenet(path, dtype=np.float32, subtract_mean=True):\n",
        "    \"\"\"\n",
        "  Load TinyImageNet. Each of TinyImageNet-100-A, TinyImageNet-100-B, and\n",
        "  TinyImageNet-200 have the same directory structure, so this can be used\n",
        "  to load any of them.\n",
        "\n",
        "  Inputs:\n",
        "  - path: String giving path to the directory to load.\n",
        "  - dtype: numpy datatype used to load the data.\n",
        "  - subtract_mean: Whether to subtract the mean training image.\n",
        "\n",
        "  Returns: A dictionary with the following entries:\n",
        "  - class_names: A list where class_names[i] is a list of strings giving the\n",
        "    WordNet names for class i in the loaded dataset.\n",
        "  - X_train: (N_tr, 3, 64, 64) array of training images\n",
        "  - y_train: (N_tr,) array of training labels\n",
        "  - X_val: (N_val, 3, 64, 64) array of validation images\n",
        "  - y_val: (N_val,) array of validation labels\n",
        "  - X_test: (N_test, 3, 64, 64) array of testing images.\n",
        "  - y_test: (N_test,) array of test labels; if test labels are not available\n",
        "    (such as in student code) then y_test will be None.\n",
        "  - mean_image: (3, 64, 64) array giving mean training image\n",
        "  \"\"\"\n",
        "    # First load wnids\n",
        "    with open(os.path.join(path, 'wnids.txt'), 'r') as f:\n",
        "        wnids = [x.strip() for x in f]\n",
        "\n",
        "    # Map wnids to integer labels\n",
        "    wnid_to_label = {wnid: i for i, wnid in enumerate(wnids)}\n",
        "\n",
        "    # Use words.txt to get names for each class\n",
        "    with open(os.path.join(path, 'words.txt'), 'r') as f:\n",
        "        wnid_to_words = dict(line.split('\\t') for line in f)\n",
        "        for wnid, words in wnid_to_words.iteritems():\n",
        "            wnid_to_words[wnid] = [w.strip() for w in words.split(',')]\n",
        "    class_names = [wnid_to_words[wnid] for wnid in wnids]\n",
        "\n",
        "    # Next load training data.\n",
        "    X_train = []\n",
        "    y_train = []\n",
        "    for i, wnid in enumerate(wnids):\n",
        "        if (i + 1) % 20 == 0:\n",
        "            print('loading training data for synset %d / %d' % (i + 1, len(wnids)))\n",
        "        # To figure out the filenames we need to open the boxes file\n",
        "        boxes_file = os.path.join(path, 'train', wnid, '%s_boxes.txt' % wnid)\n",
        "        with open(boxes_file, 'r') as f:\n",
        "            filenames = [x.split('\\t')[0] for x in f]\n",
        "        num_images = len(filenames)\n",
        "\n",
        "        X_train_block = np.zeros((num_images, 3, 64, 64), dtype=dtype)\n",
        "        y_train_block = wnid_to_label[wnid] * np.ones(num_images, dtype=np.int64)\n",
        "        for j, img_file in enumerate(filenames):\n",
        "            img_file = os.path.join(path, 'train', wnid, 'images', img_file)\n",
        "            img = imageio.imread(img_file)\n",
        "            if img.ndim == 2:\n",
        "                ## grayscale file\n",
        "                img.shape = (64, 64, 1)\n",
        "            X_train_block[j] = img.transpose(2, 0, 1)\n",
        "        X_train.append(X_train_block)\n",
        "        y_train.append(y_train_block)\n",
        "\n",
        "    # We need to concatenate all training data\n",
        "    X_train = np.concatenate(X_train, axis=0)\n",
        "    y_train = np.concatenate(y_train, axis=0)\n",
        "\n",
        "    # Next load validation data\n",
        "    with open(os.path.join(path, 'val', 'val_annotations.txt'), 'r') as f:\n",
        "        img_files = []\n",
        "        val_wnids = []\n",
        "        for line in f:\n",
        "            img_file, wnid = line.split('\\t')[:2]\n",
        "            img_files.append(img_file)\n",
        "            val_wnids.append(wnid)\n",
        "        num_val = len(img_files)\n",
        "        y_val = np.array([wnid_to_label[wnid] for wnid in val_wnids])\n",
        "        X_val = np.zeros((num_val, 3, 64, 64), dtype=dtype)\n",
        "        for i, img_file in enumerate(img_files):\n",
        "            img_file = os.path.join(path, 'val', 'images', img_file)\n",
        "            img = imageio.imread(img_file)\n",
        "            if img.ndim == 2:\n",
        "                img.shape = (64, 64, 1)\n",
        "            X_val[i] = img.transpose(2, 0, 1)\n",
        "\n",
        "    # Next load test images\n",
        "    # Students won't have test labels, so we need to iterate over files in the\n",
        "    # images directory.\n",
        "    img_files = os.listdir(os.path.join(path, 'test', 'images'))\n",
        "    X_test = np.zeros((len(img_files), 3, 64, 64), dtype=dtype)\n",
        "    for i, img_file in enumerate(img_files):\n",
        "        img_file = os.path.join(path, 'test', 'images', img_file)\n",
        "        img = imageio.imread(img_file)\n",
        "        if img.ndim == 2:\n",
        "            img.shape = (64, 64, 1)\n",
        "        X_test[i] = img.transpose(2, 0, 1)\n",
        "\n",
        "    y_test = None\n",
        "    y_test_file = os.path.join(path, 'test', 'test_annotations.txt')\n",
        "    if os.path.isfile(y_test_file):\n",
        "        with open(y_test_file, 'r') as f:\n",
        "            img_file_to_wnid = {}\n",
        "            for line in f:\n",
        "                line = line.split('\\t')\n",
        "                img_file_to_wnid[line[0]] = line[1]\n",
        "        y_test = [wnid_to_label[img_file_to_wnid[img_file]] for img_file in img_files]\n",
        "        y_test = np.array(y_test)\n",
        "\n",
        "    mean_image = X_train.mean(axis=0)\n",
        "    if subtract_mean:\n",
        "        X_train -= mean_image[None]\n",
        "        X_val -= mean_image[None]\n",
        "        X_test -= mean_image[None]\n",
        "\n",
        "    return {\n",
        "        'class_names': class_names,\n",
        "        'X_train': X_train,\n",
        "        'y_train': y_train,\n",
        "        'X_val': X_val,\n",
        "        'y_val': y_val,\n",
        "        'X_test': X_test,\n",
        "        'y_test': y_test,\n",
        "        'class_names': class_names,\n",
        "        'mean_image': mean_image,\n",
        "    }\n",
        "\n",
        "\n",
        "def load_models(models_dir):\n",
        "    \"\"\"\n",
        "  Load saved models from disk. This will attempt to unpickle all files in a\n",
        "  directory; any files that give errors on unpickling (such as README.txt) will\n",
        "  be skipped.\n",
        "\n",
        "  Inputs:\n",
        "  - models_dir: String giving the path to a directory containing model files.\n",
        "    Each model file is a pickled dictionary with a 'model' field.\n",
        "\n",
        "  Returns:\n",
        "  A dictionary mapping model file names to models.\n",
        "  \"\"\"\n",
        "    models = {}\n",
        "    for model_file in os.listdir(models_dir):\n",
        "        with open(os.path.join(models_dir, model_file), 'rb') as f:\n",
        "            try:\n",
        "                models[model_file] = load_pickle(f)['model']\n",
        "            except pickle.UnpicklingError:\n",
        "                continue\n",
        "    return models\n"
      ],
      "metadata": {
        "id": "2W_iZL6qnyxJ"
      },
      "execution_count": 4,
      "outputs": []
    },
    {
      "cell_type": "markdown",
      "metadata": {
        "id": "Mzuptv--6uXv"
      },
      "source": [
        "## Task 1: Design the Neural Network and Data Preparation\n"
      ]
    },
    {
      "cell_type": "markdown",
      "metadata": {
        "id": "kTcfx8MFFxRz"
      },
      "source": [
        "In the beginning, please import all the packages you need. We provide some packages here, which might be helpful when you build your code."
      ]
    },
    {
      "cell_type": "code",
      "metadata": {
        "id": "v4wg5xqcxNEi"
      },
      "source": [
        "from IPython.core.interactiveshell import InteractiveShell\n",
        "InteractiveShell.ast_node_interactivity = \"all\"\n",
        "\n",
        "# import modules\n",
        "import pandas as pd\n",
        "import numpy as np\n",
        "import matplotlib.pyplot as plt\n",
        "import torch\n",
        "from torch import cuda\n",
        "import torch.nn as nn\n",
        "from torch.utils.data import TensorDataset, DataLoader, sampler\n",
        "import torch.nn.functional as F\n",
        "from torch_utils import AverageMeter\n",
        "import math\n",
        "import matplotlib.pyplot as plt\n",
        "from sklearn.metrics import mean_squared_error\n",
        "from numpy import inf\n",
        "\n",
        "\n",
        "from sklearn.model_selection import train_test_split\n",
        "import os\n",
        "from glob import glob\n",
        "from torchvision import transforms\n",
        "from torchvision import datasets\n",
        "from torchvision import models\n",
        "from torch import optim, cuda, Tensor\n",
        "import tqdm\n",
        "\n",
        "# Data science tools\n",
        "import numpy as np\n",
        "\n",
        "import os\n",
        "\n",
        "# Image manipulations\n",
        "from PIL import Image\n",
        "from timeit import default_timer as timer\n",
        "\n",
        "# Visualizations\n",
        "import matplotlib.pyplot as plt\n",
        "#plt.rcParams['font.size'] = 14\n",
        "\n",
        "import warnings\n",
        "warnings.filterwarnings('ignore', category=FutureWarning)"
      ],
      "execution_count": 5,
      "outputs": []
    },
    {
      "cell_type": "markdown",
      "metadata": {
        "id": "NPX2j9gCHFOW"
      },
      "source": [
        "###Network Design\n",
        "Then, we need to define a class for your network. The network should include two linear layer, one Relu layer, and one dropout layer."
      ]
    },
    {
      "cell_type": "code",
      "metadata": {
        "id": "xDl90_EICBFp"
      },
      "source": [
        "# define model\n",
        "class bmodel(nn.Module):\n",
        "    def __init__(self, input_d, hidden_d, output_d, dropout=0.2):\n",
        "        super().__init__()\n",
        "        # Define all the layers that you need in your network\n",
        "        # You can use nn.Linear() to define the linear layer\n",
        "        # You can use nn.Dropout() to define the dropout layer\n",
        "        # You can use F.relu() to define your ReLu layer\n",
        "        ######################\n",
        "        ### YOUR CODE HERE ###\n",
        "        ######################\n",
        "        self.linear1 = nn.Linear(input_d, hidden_d)\n",
        "        self.linear2 = nn.Linear(hidden_d, output_d)\n",
        "        self.dropout = nn.Dropout(dropout)\n",
        "        ######################\n",
        "        ### YOUR CODE END  ###\n",
        "        ######################\n",
        "\n",
        "    def forward(self, x):\n",
        "        # Design your network structure here\n",
        "        ######################\n",
        "        ### YOUR CODE HERE ###\n",
        "        ######################\n",
        "        # Pass input through the first linear layer, then through ReLU\n",
        "        x = self.linear1(x)\n",
        "        x = F.relu(x)\n",
        "        # Apply dropout after the activation function\n",
        "        x = self.dropout(x)\n",
        "        # Pass the result through the second linear layer\n",
        "        x = self.linear2(x)\n",
        "        return x\n",
        "        ######################\n",
        "        ### YOUR CODE END  ###\n",
        "        ######################\n"
      ],
      "execution_count": 6,
      "outputs": []
    },
    {
      "cell_type": "markdown",
      "metadata": {
        "id": "IZiqsgPSH24o"
      },
      "source": [
        "Now, we can design our toy model to test your network."
      ]
    },
    {
      "cell_type": "code",
      "metadata": {
        "collapsed": true,
        "id": "UqhzirmamNWj"
      },
      "source": [
        "# Create a small net and some toy data to check your implementations.\n",
        "# Note that we set the random seed for repeatable experiments.\n",
        "\n",
        "input_size = 4\n",
        "hidden_size = 10\n",
        "num_classes = 3\n",
        "num_inputs = 5\n",
        "\n",
        "def init_toy_model():\n",
        "    np.random.seed(0)\n",
        "    return bmodel(input_size, hidden_size, num_classes)\n",
        "\n",
        "def init_toy_data():\n",
        "    np.random.seed(1)\n",
        "    X = 10 * np.random.randn(num_inputs, input_size)\n",
        "    y = np.array([0, 1, 2, 2, 1])\n",
        "    return X, y\n",
        "\n",
        "toy_model = init_toy_model()\n",
        "train_X, train_Y = init_toy_data()\n",
        "validation_X, validation_Y = init_toy_data()"
      ],
      "execution_count": 7,
      "outputs": []
    },
    {
      "cell_type": "markdown",
      "metadata": {
        "id": "clIyJmUFJg0H"
      },
      "source": [
        "Cuda is Compute Unified Device Architecture, which can achieve parallel computing. It will improve our learning speed in the parameter update by using GPU rather than CPU."
      ]
    },
    {
      "cell_type": "code",
      "metadata": {
        "id": "qNhcttlxJSOk",
        "colab": {
          "base_uri": "https://localhost:8080/",
          "height": 0
        },
        "outputId": "dd972564-34ca-4ed5-be94-2a9b71acd929"
      },
      "source": [
        "# Check whether there is a gpu for cuda\n",
        "train_on_gpu = cuda.is_available()\n",
        "print(f'Train on gpu: {train_on_gpu}')\n",
        "\n",
        "# Number of gpus\n",
        "if train_on_gpu:\n",
        "    gpu_count = cuda.device_count()\n",
        "    print(f'{gpu_count} gpus detected.')\n",
        "    if gpu_count > 1:\n",
        "        multi_gpu = True\n",
        "    else:\n",
        "        multi_gpu = False\n",
        "else:\n",
        "    multi_gpu = False\n",
        "print(train_on_gpu,multi_gpu)"
      ],
      "execution_count": 8,
      "outputs": [
        {
          "output_type": "stream",
          "name": "stdout",
          "text": [
            "Train on gpu: True\n",
            "1 gpus detected.\n",
            "True False\n"
          ]
        }
      ]
    },
    {
      "cell_type": "markdown",
      "metadata": {
        "id": "jFXQ5rioKcOP"
      },
      "source": [
        "###Data Preparation\n",
        "Next, we need to organize the data before we load them into the network. In Pytorch, we use Tensor as the data structure for computing, and we use \"dataloaders\" to achieve mini-batch from the whole dataset."
      ]
    },
    {
      "cell_type": "code",
      "metadata": {
        "id": "kOcdfL03KVL6",
        "colab": {
          "base_uri": "https://localhost:8080/",
          "height": 0
        },
        "outputId": "d4ab1876-771d-4015-d000-31c580abadd2"
      },
      "source": [
        "# Datasets organization\n",
        "batch_size = 1\n",
        "\n",
        "# Transfer the data from numpy to tensor\n",
        "data = {\n",
        "    'train':\n",
        "    TensorDataset(torch.from_numpy(train_X).float(), torch.from_numpy(train_Y).float()),\n",
        "    'valid':\n",
        "    # please define your validation dataset\n",
        "    ######################\n",
        "    ### YOUR CODE HERE ###\n",
        "    ######################\n",
        "    TensorDataset(torch.from_numpy(validation_X).float(), torch.from_numpy(validation_Y).float())\n",
        "    ######################\n",
        "    ### YOUR CODE END  ###\n",
        "    ######################\n",
        "\n",
        "}\n",
        "\n",
        "\n",
        "# Dataloader iterators, make sure to shuffle\n",
        "dataloaders = {\n",
        "    'train': DataLoader(data['train'], batch_size=batch_size, shuffle=True,num_workers=10),\n",
        "    'valid':\n",
        "    # please define your validation data loader\n",
        "    ######################\n",
        "    ### YOUR CODE HERE ###\n",
        "    ######################\n",
        "    DataLoader(data['valid'], batch_size=batch_size, shuffle=True,num_workers=10)\n",
        "    ######################\n",
        "    ### YOUR CODE END ####\n",
        "    ######################\n",
        "}\n",
        "\n",
        "\n",
        "\n",
        "# Iterate through the dataloader once\n",
        "trainiter = iter(dataloaders['train'])\n",
        "features, labels = next(trainiter)\n",
        "features.shape, labels.shape\n"
      ],
      "execution_count": 9,
      "outputs": [
        {
          "output_type": "stream",
          "name": "stderr",
          "text": [
            "/usr/lib/python3.10/multiprocessing/popen_fork.py:66: RuntimeWarning: os.fork() was called. os.fork() is incompatible with multithreaded code, and JAX is multithreaded, so this will likely lead to a deadlock.\n",
            "  self.pid = os.fork()\n"
          ]
        },
        {
          "output_type": "execute_result",
          "data": {
            "text/plain": [
              "(torch.Size([1, 4]), torch.Size([1]))"
            ]
          },
          "metadata": {},
          "execution_count": 9
        }
      ]
    },
    {
      "cell_type": "markdown",
      "metadata": {
        "id": "JPQQ7iRaNgIp"
      },
      "source": [
        "### Setting Learning Parameters\n",
        "In our training process, we need to set up the loss function and optimizer tool."
      ]
    },
    {
      "cell_type": "code",
      "metadata": {
        "id": "Y6PbdfxENdOJ",
        "colab": {
          "base_uri": "https://localhost:8080/",
          "height": 0
        },
        "outputId": "2137ab54-f697-4443-9f77-eb08a035c892"
      },
      "source": [
        "# Set up your criterion and optimizer\n",
        "# You can use nn.CrossEntropyLoss() and optim.Adam()\n",
        "#####################\n",
        "### YOUR CODE HERE###\n",
        "#####################\n",
        "criterion = nn.CrossEntropyLoss()\n",
        "optimizer = optim.Adam(toy_model.parameters(), lr=0.001)\n",
        "#####################\n",
        "### YOUR CODE END ###\n",
        "#####################\n",
        "\n",
        "for p in optimizer.param_groups[0]['params']:\n",
        "    if p.requires_grad:\n",
        "        print(p.shape)"
      ],
      "execution_count": 10,
      "outputs": [
        {
          "output_type": "stream",
          "name": "stdout",
          "text": [
            "torch.Size([10, 4])\n",
            "torch.Size([10])\n",
            "torch.Size([3, 10])\n",
            "torch.Size([3])\n"
          ]
        }
      ]
    },
    {
      "cell_type": "markdown",
      "metadata": {
        "id": "Ck08UYlKcGtk"
      },
      "source": [
        "## Task 2: Build the Training Pipeline"
      ]
    },
    {
      "cell_type": "markdown",
      "metadata": {
        "id": "f5ep_QqOOiNn"
      },
      "source": [
        "### Training Process\n",
        "We are now defining the train function. Please follow the instruction to finish each part."
      ]
    },
    {
      "cell_type": "code",
      "metadata": {
        "id": "vw16i2tlOcbt"
      },
      "source": [
        "def train(model,\n",
        "          criterion,\n",
        "          optimizer,\n",
        "          train_loader,\n",
        "          valid_loader,\n",
        "          save_file_name,\n",
        "          max_epochs_stop=3,\n",
        "          n_epochs=10,\n",
        "          print_every=1):\n",
        "    \"\"\"Train a PyTorch Model\n",
        "\n",
        "    Params\n",
        "    --------\n",
        "        model (PyTorch model): cnn to train\n",
        "        criterion (PyTorch loss): objective to minimize\n",
        "        optimizer (PyTorch optimizier): optimizer to compute gradients of model parameters\n",
        "        train_loader (PyTorch dataloader): training dataloader to iterate through\n",
        "        valid_loader (PyTorch dataloader): validation dataloader used for early stopping\n",
        "        save_file_name (str ending in '.pt'): file path to save the model state dict\n",
        "        max_epochs_stop (int): maximum number of epochs with no improvement in validation loss for early stopping\n",
        "        n_epochs (int): maximum number of training epochs\n",
        "        print_every (int): frequency of epochs to print training stats\n",
        "\n",
        "    Returns\n",
        "    --------\n",
        "        model (PyTorch model): trained cnn with best weights\n",
        "        history (DataFrame): history of train and validation loss and accuracy\n",
        "    \"\"\"\n",
        "\n",
        "    # Early stopping intialization\n",
        "    epochs_no_improve = 0\n",
        "    valid_loss_min = np.Inf\n",
        "\n",
        "    valid_max_acc = 0\n",
        "    history = []\n",
        "\n",
        "    # Number of epochs already trained (if using loaded in model weights)\n",
        "    try:\n",
        "        print(f'Model has been trained for: {model.epochs} epochs.\\n')\n",
        "    except:\n",
        "        model.epochs = 0\n",
        "        print(f'Starting Training from Scratch.\\n')\n",
        "\n",
        "    # Detect if we have a GPU available\n",
        "    device = torch.device(\"cuda:0\" if torch.cuda.is_available() else \"cpu\")\n",
        "    model.to(device)\n",
        "\n",
        "    overall_start = timer()\n",
        "\n",
        "    # Main loop\n",
        "    for epoch in range(n_epochs):\n",
        "\n",
        "        # keep track of training and validation loss each epoch\n",
        "        train_loss = 0.0\n",
        "        valid_loss = 0.0\n",
        "\n",
        "        train_acc = 0\n",
        "        valid_acc = 0\n",
        "\n",
        "        # Set to training\n",
        "        model.train()\n",
        "\n",
        "        start = timer()\n",
        "\n",
        "        # Training loop\n",
        "        for ii, (data, target) in enumerate(train_loader):\n",
        "\n",
        "            # Tensors to gpu, both model parameters, data, and target need to be tensors.\n",
        "            # You can use .cuda() function\n",
        "            ######################\n",
        "            ### YOUR CODE HERE ###\n",
        "            ######################\n",
        "            data, target = data.to(device), target.to(device)\n",
        "            ######################\n",
        "            ### YOUR CODE END  ###\n",
        "            ######################\n",
        "\n",
        "            # Clear gradients\n",
        "            optimizer.zero_grad()\n",
        "\n",
        "            # Forward path\n",
        "            ######################\n",
        "            ### YOUR CODE HERE ###\n",
        "            ######################\n",
        "            output = model(data)\n",
        "            ######################\n",
        "            ### YOUR CODE END  ###\n",
        "            ######################\n",
        "\n",
        "            # Loss function\n",
        "            ######################\n",
        "            ### YOUR CODE HERE ###\n",
        "            ######################\n",
        "            target = target.long()\n",
        "            loss = criterion(output, target)\n",
        "            ######################\n",
        "            ### YOUR CODE END  ###\n",
        "            ######################\n",
        "\n",
        "            # Backward path (backpropagation)\n",
        "            ######################\n",
        "            ### YOUR CODE HERE ###\n",
        "            ######################\n",
        "            loss.backward()\n",
        "            ######################\n",
        "            ### YOUR CODE END  ###\n",
        "            ######################\n",
        "\n",
        "            # Update the parameters\n",
        "            optimizer.step()\n",
        "\n",
        "            # Track train loss by multiplying average loss by number of examples in batch\n",
        "            train_loss += loss.item() * data.size(0)\n",
        "\n",
        "            # Calculate accuracy by finding max log probability\n",
        "            _, pred = torch.max(output, dim=1)\n",
        "            correct_tensor = pred.eq(target.data.view_as(pred))\n",
        "\n",
        "            # Need to convert correct tensor from int to float to average\n",
        "            accuracy = torch.mean(correct_tensor.type(torch.FloatTensor))\n",
        "\n",
        "            # Multiply average accuracy times the number of examples in batch\n",
        "            train_acc += accuracy.item() * data.size(0)\n",
        "\n",
        "            # Track training progress\n",
        "            print(\n",
        "                f'Epoch: {epoch}\\t{100 * (ii + 1) / len(train_loader):.2f}% complete. {timer() - start:.2f} seconds elapsed in epoch.',\n",
        "                end='\\r')\n",
        "\n",
        "        # After training loops ends, start validation\n",
        "        else:\n",
        "            model.epochs += 1\n",
        "\n",
        "            # Don't need to keep track of gradients\n",
        "            with torch.no_grad():\n",
        "\n",
        "                # Set to evaluation mode\n",
        "                model.eval()\n",
        "\n",
        "                # Validation loop\n",
        "                for data, target in valid_loader:\n",
        "                    # Tensors to gpu\n",
        "                    ######################\n",
        "                    ### YOUR CODE HERE ###\n",
        "                    ######################\n",
        "                    data, target = data.to(device), target.to(device)\n",
        "                    ######################\n",
        "                    ### YOUR CODE END  ###\n",
        "                    ######################\n",
        "\n",
        "                    # Forward path\n",
        "                    ######################\n",
        "                    ### YOUR CODE HERE ###\n",
        "                    ######################\n",
        "                    output = model(data)\n",
        "                    ######################\n",
        "                    ### YOUR CODE END  ###\n",
        "                    ######################\n",
        "\n",
        "                    # Validation loss computation\n",
        "                    ######################\n",
        "                    ### YOUR CODE HERE ###\n",
        "                    ######################\n",
        "                    target = target.long()\n",
        "                    loss = criterion(output, target)\n",
        "                    ######################\n",
        "                    ### YOUR CODE END  ###\n",
        "                    ######################\n",
        "\n",
        "                    # Multiply average loss times the number of examples in batch\n",
        "                    valid_loss += loss.item() * data.size(0)\n",
        "\n",
        "                    # Calculate validation accuracy\n",
        "                    _, pred = torch.max(output, dim=1)\n",
        "                    correct_tensor = pred.eq(target.data.view_as(pred))\n",
        "                    accuracy = torch.mean(\n",
        "                    correct_tensor.type(torch.FloatTensor))\n",
        "\n",
        "                    # Multiply average accuracy times the number of examples\n",
        "                    valid_acc += accuracy.item() * data.size(0)\n",
        "\n",
        "\n",
        "                # Calculate average losses and Calculate average accuracy\n",
        "                train_loss = train_loss / len(train_loader.dataset)\n",
        "                valid_loss = valid_loss / len(valid_loader.dataset)\n",
        "\n",
        "                train_acc = train_acc / len(train_loader.dataset)\n",
        "                valid_acc = valid_acc / len(valid_loader.dataset)\n",
        "\n",
        "                history.append([train_loss, valid_loss, train_acc, valid_acc])\n",
        "\n",
        "                # Print training and validation results\n",
        "                if (epoch + 1) % print_every == 0:\n",
        "                    print(\n",
        "                        f'\\nEpoch: {epoch} \\tTraining Loss: {train_loss:.4f} \\tValidation Loss: {valid_loss:.4f}'\n",
        "                    )\n",
        "                    print(\n",
        "                        f'\\t\\tTraining Accuracy: {100 * train_acc:.2f}%\\t Validation Accuracy: {100 * valid_acc:.2f}%'\n",
        "                    )\n",
        "\n",
        "                # Save the model if validation loss decreases\n",
        "                if valid_loss < valid_loss_min:\n",
        "                    # Save model\n",
        "                    # You can use torch.save()\n",
        "                    ######################\n",
        "                    ### YOUR CODE HERE ###\n",
        "                    ######################\n",
        "                    torch.save(model.state_dict(), save_file_name)\n",
        "                    ######################\n",
        "                    ### YOUR CODE END  ###\n",
        "                    ######################\n",
        "\n",
        "                    # Track improvement\n",
        "                    epochs_no_improve = 0\n",
        "                    valid_loss_min = valid_loss\n",
        "                    valid_best_acc = valid_acc\n",
        "                    best_epoch = epoch\n",
        "\n",
        "                # Otherwise increment count of epochs with no improvement\n",
        "                else:\n",
        "                    epochs_no_improve += 1\n",
        "                    # Trigger early stopping\n",
        "                    if epochs_no_improve >= max_epochs_stop:\n",
        "                        print(\n",
        "                            f'\\nEarly Stopping! Total epochs: {epoch}. Best epoch: {best_epoch} with loss: {valid_loss_min:.2f} and acc: {100 * valid_acc:.2f}%'\n",
        "                        )\n",
        "                        total_time = timer() - overall_start\n",
        "                        print(\n",
        "                            f'{total_time:.2f} total seconds elapsed. {total_time / (epoch+1):.2f} seconds per epoch.'\n",
        "                        )\n",
        "\n",
        "                        # Load the best state dict\n",
        "                        # You can use model.load_state_dict()\n",
        "                        ######################\n",
        "                        ### YOUR CODE HERE ###\n",
        "                        ######################\n",
        "                        model.load_state_dict(torch.load(save_file_name))\n",
        "                        ######################\n",
        "                        ### YOUR CODE END  ###\n",
        "                        ######################\n",
        "\n",
        "                        # Attach the optimizer\n",
        "                        model.optimizer = optimizer\n",
        "\n",
        "                        # Format history\n",
        "                        history = pd.DataFrame(\n",
        "                            history,\n",
        "                            columns=[\n",
        "                                'train_loss', 'valid_loss', 'train_acc',\n",
        "                                'valid_acc'\n",
        "                            ])\n",
        "                        return model, history\n",
        "\n",
        "    # Attach the optimizer\n",
        "    model.optimizer = optimizer\n",
        "    # Record overall time and print out stats\n",
        "    total_time = timer() - overall_start\n",
        "    print(\n",
        "        f'\\nBest epoch: {best_epoch} with loss: {valid_loss_min:.2f} and acc: {100 * valid_best_acc:.2f}%'\n",
        "    )\n",
        "    print(\n",
        "        f'{total_time:.2f} total seconds elapsed. {total_time / (epoch+1):.2f} seconds per epoch.'\n",
        "    )\n",
        "    # Format history\n",
        "    history = pd.DataFrame(\n",
        "        history,\n",
        "        columns=['train_loss', 'valid_loss', 'train_acc', 'valid_acc'])\n",
        "    return model, history"
      ],
      "execution_count": 11,
      "outputs": []
    },
    {
      "cell_type": "markdown",
      "metadata": {
        "id": "H4ZuMIexG7oo"
      },
      "source": [
        "## Task 3: Train the network"
      ]
    },
    {
      "cell_type": "markdown",
      "metadata": {
        "id": "p_dFSRgzmNWr"
      },
      "source": [
        "### Train a Network With Toy Data\n"
      ]
    },
    {
      "cell_type": "markdown",
      "metadata": {
        "id": "AdRJcmzXReJT"
      },
      "source": [
        "Well done! Once we finish our train process design, we can start to train our network with our toy dataset."
      ]
    },
    {
      "cell_type": "code",
      "metadata": {
        "id": "LFI9SHsuReqs",
        "colab": {
          "base_uri": "https://localhost:8080/",
          "height": 0
        },
        "outputId": "6b136d65-5813-45c9-d1f2-6cd12b90ae06"
      },
      "source": [
        "from timeit import default_timer as timer\n",
        "save_file_name = f'toy_model_best_model.pt'\n",
        "train_on_gpu = cuda.is_available()\n",
        "\n",
        "model, history = train(toy_model,\n",
        "    criterion,\n",
        "    optimizer,\n",
        "    dataloaders['train'],\n",
        "    dataloaders['valid'],\n",
        "    save_file_name=save_file_name,\n",
        "    max_epochs_stop=3,\n",
        "    n_epochs=500,\n",
        "    print_every=1)"
      ],
      "execution_count": 12,
      "outputs": [
        {
          "output_type": "stream",
          "name": "stdout",
          "text": [
            "Starting Training from Scratch.\n",
            "\n",
            "\n",
            "Epoch: 0 \tTraining Loss: 1.6305 \tValidation Loss: 2.0327\n",
            "\t\tTraining Accuracy: 40.00%\t Validation Accuracy: 20.00%\n",
            "\n",
            "Epoch: 1 \tTraining Loss: 1.9250 \tValidation Loss: 1.9584\n",
            "\t\tTraining Accuracy: 20.00%\t Validation Accuracy: 20.00%\n",
            "\n",
            "Epoch: 2 \tTraining Loss: 2.2239 \tValidation Loss: 1.8897\n",
            "\t\tTraining Accuracy: 20.00%\t Validation Accuracy: 20.00%\n",
            "\n",
            "Epoch: 3 \tTraining Loss: 2.1438 \tValidation Loss: 1.8074\n",
            "\t\tTraining Accuracy: 20.00%\t Validation Accuracy: 20.00%\n",
            "\n",
            "Epoch: 4 \tTraining Loss: 1.9753 \tValidation Loss: 1.7323\n",
            "\t\tTraining Accuracy: 20.00%\t Validation Accuracy: 20.00%\n",
            "\n",
            "Epoch: 5 \tTraining Loss: 1.7228 \tValidation Loss: 1.6585\n",
            "\t\tTraining Accuracy: 40.00%\t Validation Accuracy: 20.00%\n",
            "\n",
            "Epoch: 6 \tTraining Loss: 1.6751 \tValidation Loss: 1.5927\n",
            "\t\tTraining Accuracy: 0.00%\t Validation Accuracy: 20.00%\n",
            "\n",
            "Epoch: 7 \tTraining Loss: 1.2497 \tValidation Loss: 1.5333\n",
            "\t\tTraining Accuracy: 40.00%\t Validation Accuracy: 20.00%\n",
            "\n",
            "Epoch: 8 \tTraining Loss: 1.7613 \tValidation Loss: 1.4711\n",
            "\t\tTraining Accuracy: 0.00%\t Validation Accuracy: 20.00%\n",
            "\n",
            "Epoch: 9 \tTraining Loss: 1.3471 \tValidation Loss: 1.4143\n",
            "\t\tTraining Accuracy: 40.00%\t Validation Accuracy: 20.00%\n",
            "\n",
            "Epoch: 10 \tTraining Loss: 1.5044 \tValidation Loss: 1.3605\n",
            "\t\tTraining Accuracy: 40.00%\t Validation Accuracy: 20.00%\n",
            "\n",
            "Epoch: 11 \tTraining Loss: 1.4352 \tValidation Loss: 1.3067\n",
            "\t\tTraining Accuracy: 40.00%\t Validation Accuracy: 20.00%\n",
            "\n",
            "Epoch: 12 \tTraining Loss: 1.7428 \tValidation Loss: 1.2524\n",
            "\t\tTraining Accuracy: 20.00%\t Validation Accuracy: 20.00%\n",
            "\n",
            "Epoch: 13 \tTraining Loss: 1.1408 \tValidation Loss: 1.2041\n",
            "\t\tTraining Accuracy: 20.00%\t Validation Accuracy: 20.00%\n",
            "\n",
            "Epoch: 14 \tTraining Loss: 1.2090 \tValidation Loss: 1.1598\n",
            "\t\tTraining Accuracy: 20.00%\t Validation Accuracy: 20.00%\n",
            "\n",
            "Epoch: 15 \tTraining Loss: 1.4726 \tValidation Loss: 1.1154\n",
            "\t\tTraining Accuracy: 20.00%\t Validation Accuracy: 20.00%\n",
            "\n",
            "Epoch: 16 \tTraining Loss: 1.4537 \tValidation Loss: 1.0656\n",
            "\t\tTraining Accuracy: 20.00%\t Validation Accuracy: 20.00%\n",
            "\n",
            "Epoch: 17 \tTraining Loss: 1.2424 \tValidation Loss: 1.0218\n",
            "\t\tTraining Accuracy: 20.00%\t Validation Accuracy: 20.00%\n",
            "\n",
            "Epoch: 18 \tTraining Loss: 0.8027 \tValidation Loss: 0.9826\n",
            "\t\tTraining Accuracy: 40.00%\t Validation Accuracy: 20.00%\n",
            "\n",
            "Epoch: 19 \tTraining Loss: 1.0044 \tValidation Loss: 0.9501\n",
            "\t\tTraining Accuracy: 60.00%\t Validation Accuracy: 20.00%\n",
            "\n",
            "Epoch: 20 \tTraining Loss: 1.1061 \tValidation Loss: 0.9220\n",
            "\t\tTraining Accuracy: 20.00%\t Validation Accuracy: 40.00%\n",
            "\n",
            "Epoch: 21 \tTraining Loss: 1.1370 \tValidation Loss: 0.8914\n",
            "\t\tTraining Accuracy: 40.00%\t Validation Accuracy: 40.00%\n",
            "\n",
            "Epoch: 22 \tTraining Loss: 1.0450 \tValidation Loss: 0.8605\n",
            "\t\tTraining Accuracy: 20.00%\t Validation Accuracy: 40.00%\n",
            "\n",
            "Epoch: 23 \tTraining Loss: 0.9344 \tValidation Loss: 0.8296\n",
            "\t\tTraining Accuracy: 40.00%\t Validation Accuracy: 40.00%\n",
            "\n",
            "Epoch: 24 \tTraining Loss: 0.7405 \tValidation Loss: 0.8026\n",
            "\t\tTraining Accuracy: 40.00%\t Validation Accuracy: 40.00%\n",
            "\n",
            "Epoch: 25 \tTraining Loss: 0.7841 \tValidation Loss: 0.7755\n",
            "\t\tTraining Accuracy: 40.00%\t Validation Accuracy: 40.00%\n",
            "\n",
            "Epoch: 26 \tTraining Loss: 1.0810 \tValidation Loss: 0.7497\n",
            "\t\tTraining Accuracy: 20.00%\t Validation Accuracy: 60.00%\n",
            "\n",
            "Epoch: 27 \tTraining Loss: 0.8492 \tValidation Loss: 0.7265\n",
            "\t\tTraining Accuracy: 40.00%\t Validation Accuracy: 60.00%\n",
            "\n",
            "Epoch: 28 \tTraining Loss: 0.6627 \tValidation Loss: 0.7032\n",
            "\t\tTraining Accuracy: 60.00%\t Validation Accuracy: 60.00%\n",
            "\n",
            "Epoch: 29 \tTraining Loss: 0.7896 \tValidation Loss: 0.6795\n",
            "\t\tTraining Accuracy: 20.00%\t Validation Accuracy: 60.00%\n",
            "\n",
            "Epoch: 30 \tTraining Loss: 0.6640 \tValidation Loss: 0.6566\n",
            "\t\tTraining Accuracy: 60.00%\t Validation Accuracy: 60.00%\n",
            "\n",
            "Epoch: 31 \tTraining Loss: 0.8577 \tValidation Loss: 0.6335\n",
            "\t\tTraining Accuracy: 40.00%\t Validation Accuracy: 60.00%\n",
            "\n",
            "Epoch: 32 \tTraining Loss: 0.5828 \tValidation Loss: 0.6119\n",
            "\t\tTraining Accuracy: 40.00%\t Validation Accuracy: 80.00%\n",
            "\n",
            "Epoch: 33 \tTraining Loss: 0.8055 \tValidation Loss: 0.5917\n",
            "\t\tTraining Accuracy: 60.00%\t Validation Accuracy: 80.00%\n",
            "\n",
            "Epoch: 34 \tTraining Loss: 0.6079 \tValidation Loss: 0.5740\n",
            "\t\tTraining Accuracy: 80.00%\t Validation Accuracy: 80.00%\n",
            "\n",
            "Epoch: 35 \tTraining Loss: 0.7240 \tValidation Loss: 0.5558\n",
            "\t\tTraining Accuracy: 80.00%\t Validation Accuracy: 100.00%\n",
            "\n",
            "Epoch: 36 \tTraining Loss: 0.5026 \tValidation Loss: 0.5364\n",
            "\t\tTraining Accuracy: 100.00%\t Validation Accuracy: 100.00%\n",
            "\n",
            "Epoch: 37 \tTraining Loss: 0.4997 \tValidation Loss: 0.5201\n",
            "\t\tTraining Accuracy: 80.00%\t Validation Accuracy: 100.00%\n",
            "\n",
            "Epoch: 38 \tTraining Loss: 1.0214 \tValidation Loss: 0.5031\n",
            "\t\tTraining Accuracy: 40.00%\t Validation Accuracy: 100.00%\n",
            "\n",
            "Epoch: 39 \tTraining Loss: 0.6890 \tValidation Loss: 0.4870\n",
            "\t\tTraining Accuracy: 60.00%\t Validation Accuracy: 100.00%\n",
            "\n",
            "Epoch: 40 \tTraining Loss: 0.6368 \tValidation Loss: 0.4759\n",
            "\t\tTraining Accuracy: 80.00%\t Validation Accuracy: 100.00%\n",
            "\n",
            "Epoch: 41 \tTraining Loss: 0.4423 \tValidation Loss: 0.4642\n",
            "\t\tTraining Accuracy: 100.00%\t Validation Accuracy: 100.00%\n",
            "\n",
            "Epoch: 42 \tTraining Loss: 0.4468 \tValidation Loss: 0.4519\n",
            "\t\tTraining Accuracy: 80.00%\t Validation Accuracy: 100.00%\n",
            "\n",
            "Epoch: 43 \tTraining Loss: 0.5524 \tValidation Loss: 0.4393\n",
            "\t\tTraining Accuracy: 80.00%\t Validation Accuracy: 100.00%\n",
            "\n",
            "Epoch: 44 \tTraining Loss: 0.3432 \tValidation Loss: 0.4277\n",
            "\t\tTraining Accuracy: 100.00%\t Validation Accuracy: 100.00%\n",
            "\n",
            "Epoch: 45 \tTraining Loss: 0.3873 \tValidation Loss: 0.4166\n",
            "\t\tTraining Accuracy: 100.00%\t Validation Accuracy: 100.00%\n",
            "\n",
            "Epoch: 46 \tTraining Loss: 0.8090 \tValidation Loss: 0.4047\n",
            "\t\tTraining Accuracy: 40.00%\t Validation Accuracy: 100.00%\n",
            "\n",
            "Epoch: 47 \tTraining Loss: 0.3859 \tValidation Loss: 0.3953\n",
            "\t\tTraining Accuracy: 100.00%\t Validation Accuracy: 100.00%\n",
            "\n",
            "Epoch: 48 \tTraining Loss: 0.4040 \tValidation Loss: 0.3853\n",
            "\t\tTraining Accuracy: 100.00%\t Validation Accuracy: 100.00%\n",
            "\n",
            "Epoch: 49 \tTraining Loss: 0.4381 \tValidation Loss: 0.3766\n",
            "\t\tTraining Accuracy: 80.00%\t Validation Accuracy: 100.00%\n",
            "\n",
            "Epoch: 50 \tTraining Loss: 0.6675 \tValidation Loss: 0.3686\n",
            "\t\tTraining Accuracy: 80.00%\t Validation Accuracy: 100.00%\n",
            "\n",
            "Epoch: 51 \tTraining Loss: 0.2855 \tValidation Loss: 0.3615\n",
            "\t\tTraining Accuracy: 100.00%\t Validation Accuracy: 100.00%\n",
            "\n",
            "Epoch: 52 \tTraining Loss: 0.3013 \tValidation Loss: 0.3538\n",
            "\t\tTraining Accuracy: 100.00%\t Validation Accuracy: 100.00%\n",
            "\n",
            "Epoch: 53 \tTraining Loss: 0.3261 \tValidation Loss: 0.3450\n",
            "\t\tTraining Accuracy: 100.00%\t Validation Accuracy: 100.00%\n",
            "\n",
            "Epoch: 54 \tTraining Loss: 0.8040 \tValidation Loss: 0.3385\n",
            "\t\tTraining Accuracy: 60.00%\t Validation Accuracy: 100.00%\n",
            "\n",
            "Epoch: 55 \tTraining Loss: 0.2719 \tValidation Loss: 0.3312\n",
            "\t\tTraining Accuracy: 100.00%\t Validation Accuracy: 100.00%\n",
            "\n",
            "Epoch: 56 \tTraining Loss: 0.3258 \tValidation Loss: 0.3229\n",
            "\t\tTraining Accuracy: 100.00%\t Validation Accuracy: 100.00%\n",
            "\n",
            "Epoch: 57 \tTraining Loss: 0.3740 \tValidation Loss: 0.3146\n",
            "\t\tTraining Accuracy: 80.00%\t Validation Accuracy: 100.00%\n",
            "\n",
            "Epoch: 58 \tTraining Loss: 0.5663 \tValidation Loss: 0.3085\n",
            "\t\tTraining Accuracy: 80.00%\t Validation Accuracy: 100.00%\n",
            "\n",
            "Epoch: 59 \tTraining Loss: 0.5787 \tValidation Loss: 0.3037\n",
            "\t\tTraining Accuracy: 80.00%\t Validation Accuracy: 100.00%\n",
            "\n",
            "Epoch: 60 \tTraining Loss: 0.6943 \tValidation Loss: 0.2991\n",
            "\t\tTraining Accuracy: 60.00%\t Validation Accuracy: 100.00%\n",
            "\n",
            "Epoch: 61 \tTraining Loss: 0.2328 \tValidation Loss: 0.2954\n",
            "\t\tTraining Accuracy: 100.00%\t Validation Accuracy: 100.00%\n",
            "\n",
            "Epoch: 62 \tTraining Loss: 0.4655 \tValidation Loss: 0.2900\n",
            "\t\tTraining Accuracy: 80.00%\t Validation Accuracy: 100.00%\n",
            "\n",
            "Epoch: 63 \tTraining Loss: 0.4047 \tValidation Loss: 0.2844\n",
            "\t\tTraining Accuracy: 100.00%\t Validation Accuracy: 100.00%\n",
            "\n",
            "Epoch: 64 \tTraining Loss: 0.3003 \tValidation Loss: 0.2776\n",
            "\t\tTraining Accuracy: 100.00%\t Validation Accuracy: 100.00%\n",
            "\n",
            "Epoch: 65 \tTraining Loss: 0.3047 \tValidation Loss: 0.2701\n",
            "\t\tTraining Accuracy: 100.00%\t Validation Accuracy: 100.00%\n",
            "\n",
            "Epoch: 66 \tTraining Loss: 0.7029 \tValidation Loss: 0.2653\n",
            "\t\tTraining Accuracy: 80.00%\t Validation Accuracy: 100.00%\n",
            "\n",
            "Epoch: 67 \tTraining Loss: 0.3053 \tValidation Loss: 0.2611\n",
            "\t\tTraining Accuracy: 100.00%\t Validation Accuracy: 100.00%\n",
            "\n",
            "Epoch: 68 \tTraining Loss: 0.3236 \tValidation Loss: 0.2563\n",
            "\t\tTraining Accuracy: 100.00%\t Validation Accuracy: 100.00%\n",
            "\n",
            "Epoch: 69 \tTraining Loss: 0.3528 \tValidation Loss: 0.2497\n",
            "\t\tTraining Accuracy: 100.00%\t Validation Accuracy: 100.00%\n",
            "\n",
            "Epoch: 70 \tTraining Loss: 0.6859 \tValidation Loss: 0.2459\n",
            "\t\tTraining Accuracy: 60.00%\t Validation Accuracy: 100.00%\n",
            "\n",
            "Epoch: 71 \tTraining Loss: 0.2430 \tValidation Loss: 0.2401\n",
            "\t\tTraining Accuracy: 100.00%\t Validation Accuracy: 100.00%\n",
            "\n",
            "Epoch: 72 \tTraining Loss: 0.3127 \tValidation Loss: 0.2333\n",
            "\t\tTraining Accuracy: 80.00%\t Validation Accuracy: 100.00%\n",
            "\n",
            "Epoch: 73 \tTraining Loss: 0.6589 \tValidation Loss: 0.2289\n",
            "\t\tTraining Accuracy: 80.00%\t Validation Accuracy: 100.00%\n",
            "\n",
            "Epoch: 74 \tTraining Loss: 0.1805 \tValidation Loss: 0.2243\n",
            "\t\tTraining Accuracy: 100.00%\t Validation Accuracy: 100.00%\n",
            "\n",
            "Epoch: 75 \tTraining Loss: 0.4223 \tValidation Loss: 0.2189\n",
            "\t\tTraining Accuracy: 80.00%\t Validation Accuracy: 100.00%\n",
            "\n",
            "Epoch: 76 \tTraining Loss: 0.3940 \tValidation Loss: 0.2144\n",
            "\t\tTraining Accuracy: 80.00%\t Validation Accuracy: 100.00%\n",
            "\n",
            "Epoch: 77 \tTraining Loss: 0.6023 \tValidation Loss: 0.2109\n",
            "\t\tTraining Accuracy: 80.00%\t Validation Accuracy: 100.00%\n",
            "\n",
            "Epoch: 78 \tTraining Loss: 0.1543 \tValidation Loss: 0.2078\n",
            "\t\tTraining Accuracy: 100.00%\t Validation Accuracy: 100.00%\n",
            "\n",
            "Epoch: 79 \tTraining Loss: 0.3443 \tValidation Loss: 0.2037\n",
            "\t\tTraining Accuracy: 100.00%\t Validation Accuracy: 100.00%\n",
            "\n",
            "Epoch: 80 \tTraining Loss: 0.1415 \tValidation Loss: 0.2001\n",
            "\t\tTraining Accuracy: 100.00%\t Validation Accuracy: 100.00%\n",
            "\n",
            "Epoch: 81 \tTraining Loss: 0.1831 \tValidation Loss: 0.1949\n",
            "\t\tTraining Accuracy: 100.00%\t Validation Accuracy: 100.00%\n",
            "\n",
            "Epoch: 82 \tTraining Loss: 0.1544 \tValidation Loss: 0.1895\n",
            "\t\tTraining Accuracy: 100.00%\t Validation Accuracy: 100.00%\n",
            "\n",
            "Epoch: 83 \tTraining Loss: 0.2616 \tValidation Loss: 0.1850\n",
            "\t\tTraining Accuracy: 100.00%\t Validation Accuracy: 100.00%\n",
            "\n",
            "Epoch: 84 \tTraining Loss: 0.1853 \tValidation Loss: 0.1804\n",
            "\t\tTraining Accuracy: 100.00%\t Validation Accuracy: 100.00%\n",
            "\n",
            "Epoch: 85 \tTraining Loss: 0.2309 \tValidation Loss: 0.1749\n",
            "\t\tTraining Accuracy: 100.00%\t Validation Accuracy: 100.00%\n",
            "\n",
            "Epoch: 86 \tTraining Loss: 0.2748 \tValidation Loss: 0.1706\n",
            "\t\tTraining Accuracy: 80.00%\t Validation Accuracy: 100.00%\n",
            "\n",
            "Epoch: 87 \tTraining Loss: 0.1328 \tValidation Loss: 0.1675\n",
            "\t\tTraining Accuracy: 100.00%\t Validation Accuracy: 100.00%\n",
            "\n",
            "Epoch: 88 \tTraining Loss: 0.7355 \tValidation Loss: 0.1651\n",
            "\t\tTraining Accuracy: 60.00%\t Validation Accuracy: 100.00%\n",
            "\n",
            "Epoch: 89 \tTraining Loss: 0.1510 \tValidation Loss: 0.1636\n",
            "\t\tTraining Accuracy: 100.00%\t Validation Accuracy: 100.00%\n",
            "\n",
            "Epoch: 90 \tTraining Loss: 0.1954 \tValidation Loss: 0.1609\n",
            "\t\tTraining Accuracy: 100.00%\t Validation Accuracy: 100.00%\n",
            "\n",
            "Epoch: 91 \tTraining Loss: 0.1644 \tValidation Loss: 0.1574\n",
            "\t\tTraining Accuracy: 100.00%\t Validation Accuracy: 100.00%\n",
            "\n",
            "Epoch: 92 \tTraining Loss: 0.1442 \tValidation Loss: 0.1542\n",
            "\t\tTraining Accuracy: 100.00%\t Validation Accuracy: 100.00%\n",
            "\n",
            "Epoch: 93 \tTraining Loss: 0.3483 \tValidation Loss: 0.1505\n",
            "\t\tTraining Accuracy: 80.00%\t Validation Accuracy: 100.00%\n",
            "\n",
            "Epoch: 94 \tTraining Loss: 0.4003 \tValidation Loss: 0.1474\n",
            "\t\tTraining Accuracy: 80.00%\t Validation Accuracy: 100.00%\n",
            "\n",
            "Epoch: 95 \tTraining Loss: 0.1861 \tValidation Loss: 0.1437\n",
            "\t\tTraining Accuracy: 100.00%\t Validation Accuracy: 100.00%\n",
            "\n",
            "Epoch: 96 \tTraining Loss: 0.1998 \tValidation Loss: 0.1400\n",
            "\t\tTraining Accuracy: 100.00%\t Validation Accuracy: 100.00%\n",
            "\n",
            "Epoch: 97 \tTraining Loss: 0.2311 \tValidation Loss: 0.1360\n",
            "\t\tTraining Accuracy: 100.00%\t Validation Accuracy: 100.00%\n",
            "\n",
            "Epoch: 98 \tTraining Loss: 0.1563 \tValidation Loss: 0.1319\n",
            "\t\tTraining Accuracy: 100.00%\t Validation Accuracy: 100.00%\n",
            "\n",
            "Epoch: 99 \tTraining Loss: 0.1757 \tValidation Loss: 0.1279\n",
            "\t\tTraining Accuracy: 100.00%\t Validation Accuracy: 100.00%\n",
            "\n",
            "Epoch: 100 \tTraining Loss: 0.1149 \tValidation Loss: 0.1241\n",
            "\t\tTraining Accuracy: 100.00%\t Validation Accuracy: 100.00%\n",
            "\n",
            "Epoch: 101 \tTraining Loss: 0.3006 \tValidation Loss: 0.1201\n",
            "\t\tTraining Accuracy: 80.00%\t Validation Accuracy: 100.00%\n",
            "\n",
            "Epoch: 102 \tTraining Loss: 0.5881 \tValidation Loss: 0.1163\n",
            "\t\tTraining Accuracy: 60.00%\t Validation Accuracy: 100.00%\n",
            "\n",
            "Epoch: 103 \tTraining Loss: 0.1447 \tValidation Loss: 0.1125\n",
            "\t\tTraining Accuracy: 100.00%\t Validation Accuracy: 100.00%\n",
            "\n",
            "Epoch: 104 \tTraining Loss: 0.2796 \tValidation Loss: 0.1095\n",
            "\t\tTraining Accuracy: 100.00%\t Validation Accuracy: 100.00%\n",
            "\n",
            "Epoch: 105 \tTraining Loss: 0.1264 \tValidation Loss: 0.1068\n",
            "\t\tTraining Accuracy: 100.00%\t Validation Accuracy: 100.00%\n",
            "\n",
            "Epoch: 106 \tTraining Loss: 0.1133 \tValidation Loss: 0.1043\n",
            "\t\tTraining Accuracy: 100.00%\t Validation Accuracy: 100.00%\n",
            "\n",
            "Epoch: 107 \tTraining Loss: 0.4694 \tValidation Loss: 0.1021\n",
            "\t\tTraining Accuracy: 80.00%\t Validation Accuracy: 100.00%\n",
            "\n",
            "Epoch: 108 \tTraining Loss: 0.1464 \tValidation Loss: 0.1003\n",
            "\t\tTraining Accuracy: 100.00%\t Validation Accuracy: 100.00%\n",
            "\n",
            "Epoch: 109 \tTraining Loss: 0.1054 \tValidation Loss: 0.0982\n",
            "\t\tTraining Accuracy: 100.00%\t Validation Accuracy: 100.00%\n",
            "\n",
            "Epoch: 110 \tTraining Loss: 0.5354 \tValidation Loss: 0.0972\n",
            "\t\tTraining Accuracy: 80.00%\t Validation Accuracy: 100.00%\n",
            "\n",
            "Epoch: 111 \tTraining Loss: 0.0962 \tValidation Loss: 0.0956\n",
            "\t\tTraining Accuracy: 100.00%\t Validation Accuracy: 100.00%\n",
            "\n",
            "Epoch: 112 \tTraining Loss: 0.1644 \tValidation Loss: 0.0937\n",
            "\t\tTraining Accuracy: 100.00%\t Validation Accuracy: 100.00%\n",
            "\n",
            "Epoch: 113 \tTraining Loss: 0.5382 \tValidation Loss: 0.0922\n",
            "\t\tTraining Accuracy: 80.00%\t Validation Accuracy: 100.00%\n",
            "\n",
            "Epoch: 114 \tTraining Loss: 0.0882 \tValidation Loss: 0.0918\n",
            "\t\tTraining Accuracy: 100.00%\t Validation Accuracy: 100.00%\n",
            "\n",
            "Epoch: 115 \tTraining Loss: 0.5942 \tValidation Loss: 0.0915\n",
            "\t\tTraining Accuracy: 80.00%\t Validation Accuracy: 100.00%\n",
            "\n",
            "Epoch: 116 \tTraining Loss: 0.1036 \tValidation Loss: 0.0903\n",
            "\t\tTraining Accuracy: 100.00%\t Validation Accuracy: 100.00%\n",
            "\n",
            "Epoch: 117 \tTraining Loss: 0.1014 \tValidation Loss: 0.0885\n",
            "\t\tTraining Accuracy: 100.00%\t Validation Accuracy: 100.00%\n",
            "\n",
            "Epoch: 118 \tTraining Loss: 0.1545 \tValidation Loss: 0.0859\n",
            "\t\tTraining Accuracy: 100.00%\t Validation Accuracy: 100.00%\n",
            "\n",
            "Epoch: 119 \tTraining Loss: 0.1207 \tValidation Loss: 0.0839\n",
            "\t\tTraining Accuracy: 100.00%\t Validation Accuracy: 100.00%\n",
            "\n",
            "Epoch: 120 \tTraining Loss: 0.0565 \tValidation Loss: 0.0819\n",
            "\t\tTraining Accuracy: 100.00%\t Validation Accuracy: 100.00%\n",
            "\n",
            "Epoch: 121 \tTraining Loss: 0.0524 \tValidation Loss: 0.0797\n",
            "\t\tTraining Accuracy: 100.00%\t Validation Accuracy: 100.00%\n",
            "\n",
            "Epoch: 122 \tTraining Loss: 0.3488 \tValidation Loss: 0.0780\n",
            "\t\tTraining Accuracy: 80.00%\t Validation Accuracy: 100.00%\n",
            "\n",
            "Epoch: 123 \tTraining Loss: 0.0722 \tValidation Loss: 0.0768\n",
            "\t\tTraining Accuracy: 100.00%\t Validation Accuracy: 100.00%\n",
            "\n",
            "Epoch: 124 \tTraining Loss: 0.3014 \tValidation Loss: 0.0757\n",
            "\t\tTraining Accuracy: 80.00%\t Validation Accuracy: 100.00%\n",
            "\n",
            "Epoch: 125 \tTraining Loss: 0.3820 \tValidation Loss: 0.0770\n",
            "\t\tTraining Accuracy: 80.00%\t Validation Accuracy: 100.00%\n",
            "\n",
            "Epoch: 126 \tTraining Loss: 0.1325 \tValidation Loss: 0.0764\n",
            "\t\tTraining Accuracy: 100.00%\t Validation Accuracy: 100.00%\n",
            "\n",
            "Epoch: 127 \tTraining Loss: 0.1407 \tValidation Loss: 0.0748\n",
            "\t\tTraining Accuracy: 100.00%\t Validation Accuracy: 100.00%\n",
            "\n",
            "Epoch: 128 \tTraining Loss: 0.3060 \tValidation Loss: 0.0738\n",
            "\t\tTraining Accuracy: 100.00%\t Validation Accuracy: 100.00%\n",
            "\n",
            "Epoch: 129 \tTraining Loss: 0.1734 \tValidation Loss: 0.0726\n",
            "\t\tTraining Accuracy: 100.00%\t Validation Accuracy: 100.00%\n",
            "\n",
            "Epoch: 130 \tTraining Loss: 0.2056 \tValidation Loss: 0.0709\n",
            "\t\tTraining Accuracy: 100.00%\t Validation Accuracy: 100.00%\n",
            "\n",
            "Epoch: 131 \tTraining Loss: 0.1183 \tValidation Loss: 0.0685\n",
            "\t\tTraining Accuracy: 100.00%\t Validation Accuracy: 100.00%\n",
            "\n",
            "Epoch: 132 \tTraining Loss: 0.1189 \tValidation Loss: 0.0674\n",
            "\t\tTraining Accuracy: 100.00%\t Validation Accuracy: 100.00%\n",
            "\n",
            "Epoch: 133 \tTraining Loss: 0.0473 \tValidation Loss: 0.0660\n",
            "\t\tTraining Accuracy: 100.00%\t Validation Accuracy: 100.00%\n",
            "\n",
            "Epoch: 134 \tTraining Loss: 0.1004 \tValidation Loss: 0.0642\n",
            "\t\tTraining Accuracy: 100.00%\t Validation Accuracy: 100.00%\n",
            "\n",
            "Epoch: 135 \tTraining Loss: 0.1498 \tValidation Loss: 0.0615\n",
            "\t\tTraining Accuracy: 100.00%\t Validation Accuracy: 100.00%\n",
            "\n",
            "Epoch: 136 \tTraining Loss: 0.0748 \tValidation Loss: 0.0590\n",
            "\t\tTraining Accuracy: 100.00%\t Validation Accuracy: 100.00%\n",
            "\n",
            "Epoch: 137 \tTraining Loss: 0.0445 \tValidation Loss: 0.0567\n",
            "\t\tTraining Accuracy: 100.00%\t Validation Accuracy: 100.00%\n",
            "\n",
            "Epoch: 138 \tTraining Loss: 0.0697 \tValidation Loss: 0.0546\n",
            "\t\tTraining Accuracy: 100.00%\t Validation Accuracy: 100.00%\n",
            "\n",
            "Epoch: 139 \tTraining Loss: 0.0290 \tValidation Loss: 0.0528\n",
            "\t\tTraining Accuracy: 100.00%\t Validation Accuracy: 100.00%\n",
            "\n",
            "Epoch: 140 \tTraining Loss: 0.1496 \tValidation Loss: 0.0514\n",
            "\t\tTraining Accuracy: 100.00%\t Validation Accuracy: 100.00%\n",
            "\n",
            "Epoch: 141 \tTraining Loss: 0.0636 \tValidation Loss: 0.0497\n",
            "\t\tTraining Accuracy: 100.00%\t Validation Accuracy: 100.00%\n",
            "\n",
            "Epoch: 142 \tTraining Loss: 0.0459 \tValidation Loss: 0.0484\n",
            "\t\tTraining Accuracy: 100.00%\t Validation Accuracy: 100.00%\n",
            "\n",
            "Epoch: 143 \tTraining Loss: 0.0450 \tValidation Loss: 0.0470\n",
            "\t\tTraining Accuracy: 100.00%\t Validation Accuracy: 100.00%\n",
            "\n",
            "Epoch: 144 \tTraining Loss: 0.0979 \tValidation Loss: 0.0455\n",
            "\t\tTraining Accuracy: 100.00%\t Validation Accuracy: 100.00%\n",
            "\n",
            "Epoch: 145 \tTraining Loss: 0.0498 \tValidation Loss: 0.0443\n",
            "\t\tTraining Accuracy: 100.00%\t Validation Accuracy: 100.00%\n",
            "\n",
            "Epoch: 146 \tTraining Loss: 0.3338 \tValidation Loss: 0.0443\n",
            "\t\tTraining Accuracy: 80.00%\t Validation Accuracy: 100.00%\n",
            "\n",
            "Epoch: 147 \tTraining Loss: 0.0546 \tValidation Loss: 0.0439\n",
            "\t\tTraining Accuracy: 100.00%\t Validation Accuracy: 100.00%\n",
            "\n",
            "Epoch: 148 \tTraining Loss: 0.0220 \tValidation Loss: 0.0433\n",
            "\t\tTraining Accuracy: 100.00%\t Validation Accuracy: 100.00%\n",
            "\n",
            "Epoch: 149 \tTraining Loss: 0.0973 \tValidation Loss: 0.0424\n",
            "\t\tTraining Accuracy: 100.00%\t Validation Accuracy: 100.00%\n",
            "\n",
            "Epoch: 150 \tTraining Loss: 0.0210 \tValidation Loss: 0.0412\n",
            "\t\tTraining Accuracy: 100.00%\t Validation Accuracy: 100.00%\n",
            "\n",
            "Epoch: 151 \tTraining Loss: 0.2690 \tValidation Loss: 0.0396\n",
            "\t\tTraining Accuracy: 100.00%\t Validation Accuracy: 100.00%\n",
            "\n",
            "Epoch: 152 \tTraining Loss: 0.0600 \tValidation Loss: 0.0380\n",
            "\t\tTraining Accuracy: 100.00%\t Validation Accuracy: 100.00%\n",
            "\n",
            "Epoch: 153 \tTraining Loss: 0.1279 \tValidation Loss: 0.0366\n",
            "\t\tTraining Accuracy: 100.00%\t Validation Accuracy: 100.00%\n",
            "\n",
            "Epoch: 154 \tTraining Loss: 0.1003 \tValidation Loss: 0.0356\n",
            "\t\tTraining Accuracy: 100.00%\t Validation Accuracy: 100.00%\n",
            "\n",
            "Epoch: 155 \tTraining Loss: 0.0789 \tValidation Loss: 0.0348\n",
            "\t\tTraining Accuracy: 100.00%\t Validation Accuracy: 100.00%\n",
            "\n",
            "Epoch: 156 \tTraining Loss: 0.0517 \tValidation Loss: 0.0339\n",
            "\t\tTraining Accuracy: 100.00%\t Validation Accuracy: 100.00%\n",
            "\n",
            "Epoch: 157 \tTraining Loss: 0.0807 \tValidation Loss: 0.0328\n",
            "\t\tTraining Accuracy: 100.00%\t Validation Accuracy: 100.00%\n",
            "\n",
            "Epoch: 158 \tTraining Loss: 0.1225 \tValidation Loss: 0.0319\n",
            "\t\tTraining Accuracy: 100.00%\t Validation Accuracy: 100.00%\n",
            "\n",
            "Epoch: 159 \tTraining Loss: 0.0244 \tValidation Loss: 0.0311\n",
            "\t\tTraining Accuracy: 100.00%\t Validation Accuracy: 100.00%\n",
            "\n",
            "Epoch: 160 \tTraining Loss: 0.1033 \tValidation Loss: 0.0304\n",
            "\t\tTraining Accuracy: 100.00%\t Validation Accuracy: 100.00%\n",
            "\n",
            "Epoch: 161 \tTraining Loss: 0.0173 \tValidation Loss: 0.0298\n",
            "\t\tTraining Accuracy: 100.00%\t Validation Accuracy: 100.00%\n",
            "\n",
            "Epoch: 162 \tTraining Loss: 0.0412 \tValidation Loss: 0.0293\n",
            "\t\tTraining Accuracy: 100.00%\t Validation Accuracy: 100.00%\n",
            "\n",
            "Epoch: 163 \tTraining Loss: 0.0145 \tValidation Loss: 0.0286\n",
            "\t\tTraining Accuracy: 100.00%\t Validation Accuracy: 100.00%\n",
            "\n",
            "Epoch: 164 \tTraining Loss: 0.0422 \tValidation Loss: 0.0280\n",
            "\t\tTraining Accuracy: 100.00%\t Validation Accuracy: 100.00%\n",
            "\n",
            "Epoch: 165 \tTraining Loss: 0.1913 \tValidation Loss: 0.0274\n",
            "\t\tTraining Accuracy: 100.00%\t Validation Accuracy: 100.00%\n",
            "\n",
            "Epoch: 166 \tTraining Loss: 0.0208 \tValidation Loss: 0.0267\n",
            "\t\tTraining Accuracy: 100.00%\t Validation Accuracy: 100.00%\n",
            "\n",
            "Epoch: 167 \tTraining Loss: 0.0379 \tValidation Loss: 0.0262\n",
            "\t\tTraining Accuracy: 100.00%\t Validation Accuracy: 100.00%\n",
            "\n",
            "Epoch: 168 \tTraining Loss: 0.1374 \tValidation Loss: 0.0256\n",
            "\t\tTraining Accuracy: 100.00%\t Validation Accuracy: 100.00%\n",
            "\n",
            "Epoch: 169 \tTraining Loss: 0.0522 \tValidation Loss: 0.0250\n",
            "\t\tTraining Accuracy: 100.00%\t Validation Accuracy: 100.00%\n",
            "\n",
            "Epoch: 170 \tTraining Loss: 0.0559 \tValidation Loss: 0.0242\n",
            "\t\tTraining Accuracy: 100.00%\t Validation Accuracy: 100.00%\n",
            "\n",
            "Epoch: 171 \tTraining Loss: 0.0181 \tValidation Loss: 0.0236\n",
            "\t\tTraining Accuracy: 100.00%\t Validation Accuracy: 100.00%\n",
            "\n",
            "Epoch: 172 \tTraining Loss: 0.4300 \tValidation Loss: 0.0242\n",
            "\t\tTraining Accuracy: 80.00%\t Validation Accuracy: 100.00%\n",
            "\n",
            "Epoch: 173 \tTraining Loss: 0.1436 \tValidation Loss: 0.0239\n",
            "\t\tTraining Accuracy: 100.00%\t Validation Accuracy: 100.00%\n",
            "\n",
            "Epoch: 174 \tTraining Loss: 0.0522 \tValidation Loss: 0.0233\n",
            "\t\tTraining Accuracy: 100.00%\t Validation Accuracy: 100.00%\n",
            "\n",
            "Epoch: 175 \tTraining Loss: 0.0512 \tValidation Loss: 0.0226\n",
            "\t\tTraining Accuracy: 100.00%\t Validation Accuracy: 100.00%\n",
            "\n",
            "Epoch: 176 \tTraining Loss: 0.0424 \tValidation Loss: 0.0222\n",
            "\t\tTraining Accuracy: 100.00%\t Validation Accuracy: 100.00%\n",
            "\n",
            "Epoch: 177 \tTraining Loss: 0.0974 \tValidation Loss: 0.0216\n",
            "\t\tTraining Accuracy: 100.00%\t Validation Accuracy: 100.00%\n",
            "\n",
            "Epoch: 178 \tTraining Loss: 0.1199 \tValidation Loss: 0.0206\n",
            "\t\tTraining Accuracy: 100.00%\t Validation Accuracy: 100.00%\n",
            "\n",
            "Epoch: 179 \tTraining Loss: 0.0099 \tValidation Loss: 0.0199\n",
            "\t\tTraining Accuracy: 100.00%\t Validation Accuracy: 100.00%\n",
            "\n",
            "Epoch: 180 \tTraining Loss: 0.0078 \tValidation Loss: 0.0194\n",
            "\t\tTraining Accuracy: 100.00%\t Validation Accuracy: 100.00%\n",
            "\n",
            "Epoch: 181 \tTraining Loss: 0.0076 \tValidation Loss: 0.0190\n",
            "\t\tTraining Accuracy: 100.00%\t Validation Accuracy: 100.00%\n",
            "\n",
            "Epoch: 182 \tTraining Loss: 0.1962 \tValidation Loss: 0.0187\n",
            "\t\tTraining Accuracy: 100.00%\t Validation Accuracy: 100.00%\n",
            "\n",
            "Epoch: 183 \tTraining Loss: 0.0109 \tValidation Loss: 0.0186\n",
            "\t\tTraining Accuracy: 100.00%\t Validation Accuracy: 100.00%\n",
            "\n",
            "Epoch: 184 \tTraining Loss: 0.1114 \tValidation Loss: 0.0185\n",
            "\t\tTraining Accuracy: 100.00%\t Validation Accuracy: 100.00%\n",
            "\n",
            "Epoch: 185 \tTraining Loss: 0.0358 \tValidation Loss: 0.0183\n",
            "\t\tTraining Accuracy: 100.00%\t Validation Accuracy: 100.00%\n",
            "\n",
            "Epoch: 186 \tTraining Loss: 0.0188 \tValidation Loss: 0.0179\n",
            "\t\tTraining Accuracy: 100.00%\t Validation Accuracy: 100.00%\n",
            "\n",
            "Epoch: 187 \tTraining Loss: 0.0479 \tValidation Loss: 0.0176\n",
            "\t\tTraining Accuracy: 100.00%\t Validation Accuracy: 100.00%\n",
            "\n",
            "Epoch: 188 \tTraining Loss: 0.0515 \tValidation Loss: 0.0171\n",
            "\t\tTraining Accuracy: 100.00%\t Validation Accuracy: 100.00%\n",
            "\n",
            "Epoch: 189 \tTraining Loss: 0.0546 \tValidation Loss: 0.0166\n",
            "\t\tTraining Accuracy: 100.00%\t Validation Accuracy: 100.00%\n",
            "\n",
            "Epoch: 190 \tTraining Loss: 0.0340 \tValidation Loss: 0.0160\n",
            "\t\tTraining Accuracy: 100.00%\t Validation Accuracy: 100.00%\n",
            "\n",
            "Epoch: 191 \tTraining Loss: 0.0090 \tValidation Loss: 0.0156\n",
            "\t\tTraining Accuracy: 100.00%\t Validation Accuracy: 100.00%\n",
            "\n",
            "Epoch: 192 \tTraining Loss: 0.2575 \tValidation Loss: 0.0153\n",
            "\t\tTraining Accuracy: 80.00%\t Validation Accuracy: 100.00%\n",
            "\n",
            "Epoch: 193 \tTraining Loss: 0.0127 \tValidation Loss: 0.0151\n",
            "\t\tTraining Accuracy: 100.00%\t Validation Accuracy: 100.00%\n",
            "\n",
            "Epoch: 194 \tTraining Loss: 0.0614 \tValidation Loss: 0.0147\n",
            "\t\tTraining Accuracy: 100.00%\t Validation Accuracy: 100.00%\n",
            "\n",
            "Epoch: 195 \tTraining Loss: 0.0312 \tValidation Loss: 0.0144\n",
            "\t\tTraining Accuracy: 100.00%\t Validation Accuracy: 100.00%\n",
            "\n",
            "Epoch: 196 \tTraining Loss: 0.0854 \tValidation Loss: 0.0141\n",
            "\t\tTraining Accuracy: 100.00%\t Validation Accuracy: 100.00%\n",
            "\n",
            "Epoch: 197 \tTraining Loss: 0.0733 \tValidation Loss: 0.0138\n",
            "\t\tTraining Accuracy: 100.00%\t Validation Accuracy: 100.00%\n",
            "\n",
            "Epoch: 198 \tTraining Loss: 0.0049 \tValidation Loss: 0.0135\n",
            "\t\tTraining Accuracy: 100.00%\t Validation Accuracy: 100.00%\n",
            "\n",
            "Epoch: 199 \tTraining Loss: 0.0169 \tValidation Loss: 0.0133\n",
            "\t\tTraining Accuracy: 100.00%\t Validation Accuracy: 100.00%\n",
            "\n",
            "Epoch: 200 \tTraining Loss: 0.0191 \tValidation Loss: 0.0131\n",
            "\t\tTraining Accuracy: 100.00%\t Validation Accuracy: 100.00%\n",
            "\n",
            "Epoch: 201 \tTraining Loss: 0.0629 \tValidation Loss: 0.0128\n",
            "\t\tTraining Accuracy: 100.00%\t Validation Accuracy: 100.00%\n",
            "\n",
            "Epoch: 202 \tTraining Loss: 0.0171 \tValidation Loss: 0.0125\n",
            "\t\tTraining Accuracy: 100.00%\t Validation Accuracy: 100.00%\n",
            "\n",
            "Epoch: 203 \tTraining Loss: 0.0056 \tValidation Loss: 0.0122\n",
            "\t\tTraining Accuracy: 100.00%\t Validation Accuracy: 100.00%\n",
            "\n",
            "Epoch: 204 \tTraining Loss: 0.0179 \tValidation Loss: 0.0121\n",
            "\t\tTraining Accuracy: 100.00%\t Validation Accuracy: 100.00%\n",
            "\n",
            "Epoch: 205 \tTraining Loss: 0.0283 \tValidation Loss: 0.0119\n",
            "\t\tTraining Accuracy: 100.00%\t Validation Accuracy: 100.00%\n",
            "\n",
            "Epoch: 206 \tTraining Loss: 0.0206 \tValidation Loss: 0.0117\n",
            "\t\tTraining Accuracy: 100.00%\t Validation Accuracy: 100.00%\n",
            "\n",
            "Epoch: 207 \tTraining Loss: 0.0280 \tValidation Loss: 0.0114\n",
            "\t\tTraining Accuracy: 100.00%\t Validation Accuracy: 100.00%\n",
            "\n",
            "Epoch: 208 \tTraining Loss: 0.0185 \tValidation Loss: 0.0112\n",
            "\t\tTraining Accuracy: 100.00%\t Validation Accuracy: 100.00%\n",
            "\n",
            "Epoch: 209 \tTraining Loss: 0.0137 \tValidation Loss: 0.0109\n",
            "\t\tTraining Accuracy: 100.00%\t Validation Accuracy: 100.00%\n",
            "\n",
            "Epoch: 210 \tTraining Loss: 0.0057 \tValidation Loss: 0.0107\n",
            "\t\tTraining Accuracy: 100.00%\t Validation Accuracy: 100.00%\n",
            "\n",
            "Epoch: 211 \tTraining Loss: 0.3530 \tValidation Loss: 0.0104\n",
            "\t\tTraining Accuracy: 100.00%\t Validation Accuracy: 100.00%\n",
            "\n",
            "Epoch: 212 \tTraining Loss: 0.0233 \tValidation Loss: 0.0102\n",
            "\t\tTraining Accuracy: 100.00%\t Validation Accuracy: 100.00%\n",
            "\n",
            "Epoch: 213 \tTraining Loss: 0.1894 \tValidation Loss: 0.0101\n",
            "\t\tTraining Accuracy: 80.00%\t Validation Accuracy: 100.00%\n",
            "\n",
            "Epoch: 214 \tTraining Loss: 0.0341 \tValidation Loss: 0.0101\n",
            "\t\tTraining Accuracy: 100.00%\t Validation Accuracy: 100.00%\n",
            "\n",
            "Epoch: 215 \tTraining Loss: 0.0198 \tValidation Loss: 0.0100\n",
            "\t\tTraining Accuracy: 100.00%\t Validation Accuracy: 100.00%\n",
            "\n",
            "Epoch: 216 \tTraining Loss: 0.0046 \tValidation Loss: 0.0099\n",
            "\t\tTraining Accuracy: 100.00%\t Validation Accuracy: 100.00%\n",
            "\n",
            "Epoch: 217 \tTraining Loss: 0.0190 \tValidation Loss: 0.0097\n",
            "\t\tTraining Accuracy: 100.00%\t Validation Accuracy: 100.00%\n",
            "\n",
            "Epoch: 218 \tTraining Loss: 0.3036 \tValidation Loss: 0.0096\n",
            "\t\tTraining Accuracy: 80.00%\t Validation Accuracy: 100.00%\n",
            "\n",
            "Epoch: 219 \tTraining Loss: 0.0665 \tValidation Loss: 0.0095\n",
            "\t\tTraining Accuracy: 100.00%\t Validation Accuracy: 100.00%\n",
            "\n",
            "Epoch: 220 \tTraining Loss: 0.0987 \tValidation Loss: 0.0094\n",
            "\t\tTraining Accuracy: 100.00%\t Validation Accuracy: 100.00%\n",
            "\n",
            "Epoch: 221 \tTraining Loss: 0.0535 \tValidation Loss: 0.0093\n",
            "\t\tTraining Accuracy: 100.00%\t Validation Accuracy: 100.00%\n",
            "\n",
            "Epoch: 222 \tTraining Loss: 0.0807 \tValidation Loss: 0.0092\n",
            "\t\tTraining Accuracy: 100.00%\t Validation Accuracy: 100.00%\n",
            "\n",
            "Epoch: 223 \tTraining Loss: 0.0053 \tValidation Loss: 0.0091\n",
            "\t\tTraining Accuracy: 100.00%\t Validation Accuracy: 100.00%\n",
            "\n",
            "Epoch: 224 \tTraining Loss: 0.0060 \tValidation Loss: 0.0090\n",
            "\t\tTraining Accuracy: 100.00%\t Validation Accuracy: 100.00%\n",
            "\n",
            "Epoch: 225 \tTraining Loss: 0.0117 \tValidation Loss: 0.0089\n",
            "\t\tTraining Accuracy: 100.00%\t Validation Accuracy: 100.00%\n",
            "\n",
            "Epoch: 226 \tTraining Loss: 0.0758 \tValidation Loss: 0.0088\n",
            "\t\tTraining Accuracy: 100.00%\t Validation Accuracy: 100.00%\n",
            "\n",
            "Epoch: 227 \tTraining Loss: 0.0306 \tValidation Loss: 0.0087\n",
            "\t\tTraining Accuracy: 100.00%\t Validation Accuracy: 100.00%\n",
            "\n",
            "Epoch: 228 \tTraining Loss: 0.2080 \tValidation Loss: 0.0086\n",
            "\t\tTraining Accuracy: 100.00%\t Validation Accuracy: 100.00%\n",
            "\n",
            "Epoch: 229 \tTraining Loss: 0.0477 \tValidation Loss: 0.0085\n",
            "\t\tTraining Accuracy: 100.00%\t Validation Accuracy: 100.00%\n",
            "\n",
            "Epoch: 230 \tTraining Loss: 0.0036 \tValidation Loss: 0.0084\n",
            "\t\tTraining Accuracy: 100.00%\t Validation Accuracy: 100.00%\n",
            "\n",
            "Epoch: 231 \tTraining Loss: 0.0316 \tValidation Loss: 0.0083\n",
            "\t\tTraining Accuracy: 100.00%\t Validation Accuracy: 100.00%\n",
            "\n",
            "Epoch: 232 \tTraining Loss: 0.2318 \tValidation Loss: 0.0082\n",
            "\t\tTraining Accuracy: 80.00%\t Validation Accuracy: 100.00%\n",
            "\n",
            "Epoch: 233 \tTraining Loss: 0.0105 \tValidation Loss: 0.0081\n",
            "\t\tTraining Accuracy: 100.00%\t Validation Accuracy: 100.00%\n",
            "\n",
            "Epoch: 234 \tTraining Loss: 0.0413 \tValidation Loss: 0.0080\n",
            "\t\tTraining Accuracy: 100.00%\t Validation Accuracy: 100.00%\n",
            "\n",
            "Epoch: 235 \tTraining Loss: 0.0227 \tValidation Loss: 0.0079\n",
            "\t\tTraining Accuracy: 100.00%\t Validation Accuracy: 100.00%\n",
            "\n",
            "Epoch: 236 \tTraining Loss: 0.0026 \tValidation Loss: 0.0079\n",
            "\t\tTraining Accuracy: 100.00%\t Validation Accuracy: 100.00%\n",
            "\n",
            "Epoch: 237 \tTraining Loss: 0.1679 \tValidation Loss: 0.0078\n",
            "\t\tTraining Accuracy: 100.00%\t Validation Accuracy: 100.00%\n",
            "\n",
            "Epoch: 238 \tTraining Loss: 0.0094 \tValidation Loss: 0.0078\n",
            "\t\tTraining Accuracy: 100.00%\t Validation Accuracy: 100.00%\n",
            "\n",
            "Epoch: 239 \tTraining Loss: 0.0051 \tValidation Loss: 0.0078\n",
            "\t\tTraining Accuracy: 100.00%\t Validation Accuracy: 100.00%\n",
            "\n",
            "Epoch: 240 \tTraining Loss: 0.0502 \tValidation Loss: 0.0077\n",
            "\t\tTraining Accuracy: 100.00%\t Validation Accuracy: 100.00%\n",
            "\n",
            "Epoch: 241 \tTraining Loss: 0.3226 \tValidation Loss: 0.0078\n",
            "\t\tTraining Accuracy: 80.00%\t Validation Accuracy: 100.00%\n",
            "\n",
            "Epoch: 242 \tTraining Loss: 0.0265 \tValidation Loss: 0.0078\n",
            "\t\tTraining Accuracy: 100.00%\t Validation Accuracy: 100.00%\n",
            "\n",
            "Epoch: 243 \tTraining Loss: 0.0175 \tValidation Loss: 0.0076\n",
            "\t\tTraining Accuracy: 100.00%\t Validation Accuracy: 100.00%\n",
            "\n",
            "Epoch: 244 \tTraining Loss: 0.0131 \tValidation Loss: 0.0075\n",
            "\t\tTraining Accuracy: 100.00%\t Validation Accuracy: 100.00%\n",
            "\n",
            "Epoch: 245 \tTraining Loss: 0.0032 \tValidation Loss: 0.0074\n",
            "\t\tTraining Accuracy: 100.00%\t Validation Accuracy: 100.00%\n",
            "\n",
            "Epoch: 246 \tTraining Loss: 0.0161 \tValidation Loss: 0.0073\n",
            "\t\tTraining Accuracy: 100.00%\t Validation Accuracy: 100.00%\n",
            "\n",
            "Epoch: 247 \tTraining Loss: 0.0113 \tValidation Loss: 0.0072\n",
            "\t\tTraining Accuracy: 100.00%\t Validation Accuracy: 100.00%\n",
            "\n",
            "Epoch: 248 \tTraining Loss: 0.0393 \tValidation Loss: 0.0070\n",
            "\t\tTraining Accuracy: 100.00%\t Validation Accuracy: 100.00%\n",
            "\n",
            "Epoch: 249 \tTraining Loss: 0.0030 \tValidation Loss: 0.0069\n",
            "\t\tTraining Accuracy: 100.00%\t Validation Accuracy: 100.00%\n",
            "\n",
            "Epoch: 250 \tTraining Loss: 0.0127 \tValidation Loss: 0.0068\n",
            "\t\tTraining Accuracy: 100.00%\t Validation Accuracy: 100.00%\n",
            "\n",
            "Epoch: 251 \tTraining Loss: 0.0784 \tValidation Loss: 0.0067\n",
            "\t\tTraining Accuracy: 100.00%\t Validation Accuracy: 100.00%\n",
            "\n",
            "Epoch: 252 \tTraining Loss: 0.0290 \tValidation Loss: 0.0065\n",
            "\t\tTraining Accuracy: 100.00%\t Validation Accuracy: 100.00%\n",
            "\n",
            "Epoch: 253 \tTraining Loss: 0.0263 \tValidation Loss: 0.0062\n",
            "\t\tTraining Accuracy: 100.00%\t Validation Accuracy: 100.00%\n",
            "\n",
            "Epoch: 254 \tTraining Loss: 0.0141 \tValidation Loss: 0.0061\n",
            "\t\tTraining Accuracy: 100.00%\t Validation Accuracy: 100.00%\n",
            "\n",
            "Epoch: 255 \tTraining Loss: 0.2220 \tValidation Loss: 0.0060\n",
            "\t\tTraining Accuracy: 80.00%\t Validation Accuracy: 100.00%\n",
            "\n",
            "Epoch: 256 \tTraining Loss: 0.0020 \tValidation Loss: 0.0059\n",
            "\t\tTraining Accuracy: 100.00%\t Validation Accuracy: 100.00%\n",
            "\n",
            "Epoch: 257 \tTraining Loss: 0.0026 \tValidation Loss: 0.0058\n",
            "\t\tTraining Accuracy: 100.00%\t Validation Accuracy: 100.00%\n",
            "\n",
            "Epoch: 258 \tTraining Loss: 0.0095 \tValidation Loss: 0.0058\n",
            "\t\tTraining Accuracy: 100.00%\t Validation Accuracy: 100.00%\n",
            "\n",
            "Epoch: 259 \tTraining Loss: 0.0054 \tValidation Loss: 0.0057\n",
            "\t\tTraining Accuracy: 100.00%\t Validation Accuracy: 100.00%\n",
            "\n",
            "Epoch: 260 \tTraining Loss: 0.2240 \tValidation Loss: 0.0057\n",
            "\t\tTraining Accuracy: 80.00%\t Validation Accuracy: 100.00%\n",
            "\n",
            "Epoch: 261 \tTraining Loss: 0.0381 \tValidation Loss: 0.0057\n",
            "\t\tTraining Accuracy: 100.00%\t Validation Accuracy: 100.00%\n",
            "\n",
            "Epoch: 262 \tTraining Loss: 0.0020 \tValidation Loss: 0.0056\n",
            "\t\tTraining Accuracy: 100.00%\t Validation Accuracy: 100.00%\n",
            "\n",
            "Epoch: 263 \tTraining Loss: 0.0064 \tValidation Loss: 0.0056\n",
            "\t\tTraining Accuracy: 100.00%\t Validation Accuracy: 100.00%\n",
            "\n",
            "Epoch: 264 \tTraining Loss: 0.0023 \tValidation Loss: 0.0055\n",
            "\t\tTraining Accuracy: 100.00%\t Validation Accuracy: 100.00%\n",
            "\n",
            "Epoch: 265 \tTraining Loss: 0.0496 \tValidation Loss: 0.0055\n",
            "\t\tTraining Accuracy: 100.00%\t Validation Accuracy: 100.00%\n",
            "\n",
            "Epoch: 266 \tTraining Loss: 0.0097 \tValidation Loss: 0.0055\n",
            "\t\tTraining Accuracy: 100.00%\t Validation Accuracy: 100.00%\n",
            "\n",
            "Epoch: 267 \tTraining Loss: 0.0368 \tValidation Loss: 0.0054\n",
            "\t\tTraining Accuracy: 100.00%\t Validation Accuracy: 100.00%\n",
            "\n",
            "Epoch: 268 \tTraining Loss: 0.0279 \tValidation Loss: 0.0053\n",
            "\t\tTraining Accuracy: 100.00%\t Validation Accuracy: 100.00%\n",
            "\n",
            "Epoch: 269 \tTraining Loss: 0.0214 \tValidation Loss: 0.0052\n",
            "\t\tTraining Accuracy: 100.00%\t Validation Accuracy: 100.00%\n",
            "\n",
            "Epoch: 270 \tTraining Loss: 0.0472 \tValidation Loss: 0.0051\n",
            "\t\tTraining Accuracy: 100.00%\t Validation Accuracy: 100.00%\n",
            "\n",
            "Epoch: 271 \tTraining Loss: 0.2942 \tValidation Loss: 0.0050\n",
            "\t\tTraining Accuracy: 80.00%\t Validation Accuracy: 100.00%\n",
            "\n",
            "Epoch: 272 \tTraining Loss: 0.0392 \tValidation Loss: 0.0049\n",
            "\t\tTraining Accuracy: 100.00%\t Validation Accuracy: 100.00%\n",
            "\n",
            "Epoch: 273 \tTraining Loss: 0.0149 \tValidation Loss: 0.0048\n",
            "\t\tTraining Accuracy: 100.00%\t Validation Accuracy: 100.00%\n",
            "\n",
            "Epoch: 274 \tTraining Loss: 0.0053 \tValidation Loss: 0.0047\n",
            "\t\tTraining Accuracy: 100.00%\t Validation Accuracy: 100.00%\n",
            "\n",
            "Epoch: 275 \tTraining Loss: 0.0046 \tValidation Loss: 0.0047\n",
            "\t\tTraining Accuracy: 100.00%\t Validation Accuracy: 100.00%\n",
            "\n",
            "Epoch: 276 \tTraining Loss: 0.0096 \tValidation Loss: 0.0046\n",
            "\t\tTraining Accuracy: 100.00%\t Validation Accuracy: 100.00%\n",
            "\n",
            "Epoch: 277 \tTraining Loss: 0.0066 \tValidation Loss: 0.0046\n",
            "\t\tTraining Accuracy: 100.00%\t Validation Accuracy: 100.00%\n",
            "\n",
            "Epoch: 278 \tTraining Loss: 0.0177 \tValidation Loss: 0.0045\n",
            "\t\tTraining Accuracy: 100.00%\t Validation Accuracy: 100.00%\n",
            "\n",
            "Epoch: 279 \tTraining Loss: 0.0708 \tValidation Loss: 0.0045\n",
            "\t\tTraining Accuracy: 100.00%\t Validation Accuracy: 100.00%\n",
            "\n",
            "Epoch: 280 \tTraining Loss: 0.0448 \tValidation Loss: 0.0044\n",
            "\t\tTraining Accuracy: 100.00%\t Validation Accuracy: 100.00%\n",
            "\n",
            "Epoch: 281 \tTraining Loss: 0.0047 \tValidation Loss: 0.0043\n",
            "\t\tTraining Accuracy: 100.00%\t Validation Accuracy: 100.00%\n",
            "\n",
            "Epoch: 282 \tTraining Loss: 0.0317 \tValidation Loss: 0.0042\n",
            "\t\tTraining Accuracy: 100.00%\t Validation Accuracy: 100.00%\n",
            "\n",
            "Epoch: 283 \tTraining Loss: 0.0016 \tValidation Loss: 0.0042\n",
            "\t\tTraining Accuracy: 100.00%\t Validation Accuracy: 100.00%\n",
            "\n",
            "Epoch: 284 \tTraining Loss: 0.0576 \tValidation Loss: 0.0042\n",
            "\t\tTraining Accuracy: 100.00%\t Validation Accuracy: 100.00%\n",
            "\n",
            "Epoch: 285 \tTraining Loss: 0.0624 \tValidation Loss: 0.0042\n",
            "\t\tTraining Accuracy: 100.00%\t Validation Accuracy: 100.00%\n",
            "\n",
            "Epoch: 286 \tTraining Loss: 0.0171 \tValidation Loss: 0.0041\n",
            "\t\tTraining Accuracy: 100.00%\t Validation Accuracy: 100.00%\n",
            "\n",
            "Epoch: 287 \tTraining Loss: 0.0088 \tValidation Loss: 0.0041\n",
            "\t\tTraining Accuracy: 100.00%\t Validation Accuracy: 100.00%\n",
            "\n",
            "Epoch: 288 \tTraining Loss: 0.0600 \tValidation Loss: 0.0040\n",
            "\t\tTraining Accuracy: 100.00%\t Validation Accuracy: 100.00%\n",
            "\n",
            "Epoch: 289 \tTraining Loss: 0.0808 \tValidation Loss: 0.0040\n",
            "\t\tTraining Accuracy: 100.00%\t Validation Accuracy: 100.00%\n",
            "\n",
            "Epoch: 290 \tTraining Loss: 0.3339 \tValidation Loss: 0.0039\n",
            "\t\tTraining Accuracy: 80.00%\t Validation Accuracy: 100.00%\n",
            "\n",
            "Epoch: 291 \tTraining Loss: 0.0029 \tValidation Loss: 0.0038\n",
            "\t\tTraining Accuracy: 100.00%\t Validation Accuracy: 100.00%\n",
            "\n",
            "Epoch: 292 \tTraining Loss: 0.0490 \tValidation Loss: 0.0038\n",
            "\t\tTraining Accuracy: 100.00%\t Validation Accuracy: 100.00%\n",
            "\n",
            "Epoch: 293 \tTraining Loss: 0.0117 \tValidation Loss: 0.0037\n",
            "\t\tTraining Accuracy: 100.00%\t Validation Accuracy: 100.00%\n",
            "\n",
            "Epoch: 294 \tTraining Loss: 0.2117 \tValidation Loss: 0.0037\n",
            "\t\tTraining Accuracy: 80.00%\t Validation Accuracy: 100.00%\n",
            "\n",
            "Epoch: 295 \tTraining Loss: 0.0464 \tValidation Loss: 0.0036\n",
            "\t\tTraining Accuracy: 100.00%\t Validation Accuracy: 100.00%\n",
            "\n",
            "Epoch: 296 \tTraining Loss: 0.0036 \tValidation Loss: 0.0035\n",
            "\t\tTraining Accuracy: 100.00%\t Validation Accuracy: 100.00%\n",
            "\n",
            "Epoch: 297 \tTraining Loss: 0.0159 \tValidation Loss: 0.0035\n",
            "\t\tTraining Accuracy: 100.00%\t Validation Accuracy: 100.00%\n",
            "\n",
            "Epoch: 298 \tTraining Loss: 0.0040 \tValidation Loss: 0.0034\n",
            "\t\tTraining Accuracy: 100.00%\t Validation Accuracy: 100.00%\n",
            "\n",
            "Epoch: 299 \tTraining Loss: 0.0138 \tValidation Loss: 0.0034\n",
            "\t\tTraining Accuracy: 100.00%\t Validation Accuracy: 100.00%\n",
            "\n",
            "Epoch: 300 \tTraining Loss: 0.0298 \tValidation Loss: 0.0033\n",
            "\t\tTraining Accuracy: 100.00%\t Validation Accuracy: 100.00%\n",
            "\n",
            "Epoch: 301 \tTraining Loss: 0.0009 \tValidation Loss: 0.0033\n",
            "\t\tTraining Accuracy: 100.00%\t Validation Accuracy: 100.00%\n",
            "\n",
            "Epoch: 302 \tTraining Loss: 0.0044 \tValidation Loss: 0.0033\n",
            "\t\tTraining Accuracy: 100.00%\t Validation Accuracy: 100.00%\n",
            "\n",
            "Epoch: 303 \tTraining Loss: 0.0069 \tValidation Loss: 0.0032\n",
            "\t\tTraining Accuracy: 100.00%\t Validation Accuracy: 100.00%\n",
            "\n",
            "Epoch: 304 \tTraining Loss: 0.2027 \tValidation Loss: 0.0032\n",
            "\t\tTraining Accuracy: 100.00%\t Validation Accuracy: 100.00%\n",
            "\n",
            "Epoch: 305 \tTraining Loss: 0.0220 \tValidation Loss: 0.0032\n",
            "\t\tTraining Accuracy: 100.00%\t Validation Accuracy: 100.00%\n",
            "\n",
            "Epoch: 306 \tTraining Loss: 0.0024 \tValidation Loss: 0.0032\n",
            "\t\tTraining Accuracy: 100.00%\t Validation Accuracy: 100.00%\n",
            "\n",
            "Epoch: 307 \tTraining Loss: 0.0524 \tValidation Loss: 0.0032\n",
            "\t\tTraining Accuracy: 100.00%\t Validation Accuracy: 100.00%\n",
            "\n",
            "Epoch: 308 \tTraining Loss: 0.0042 \tValidation Loss: 0.0031\n",
            "\t\tTraining Accuracy: 100.00%\t Validation Accuracy: 100.00%\n",
            "\n",
            "Epoch: 309 \tTraining Loss: 0.0187 \tValidation Loss: 0.0031\n",
            "\t\tTraining Accuracy: 100.00%\t Validation Accuracy: 100.00%\n",
            "\n",
            "Epoch: 310 \tTraining Loss: 0.0031 \tValidation Loss: 0.0030\n",
            "\t\tTraining Accuracy: 100.00%\t Validation Accuracy: 100.00%\n",
            "\n",
            "Epoch: 311 \tTraining Loss: 0.0057 \tValidation Loss: 0.0030\n",
            "\t\tTraining Accuracy: 100.00%\t Validation Accuracy: 100.00%\n",
            "\n",
            "Epoch: 312 \tTraining Loss: 0.0038 \tValidation Loss: 0.0030\n",
            "\t\tTraining Accuracy: 100.00%\t Validation Accuracy: 100.00%\n",
            "\n",
            "Epoch: 313 \tTraining Loss: 0.0010 \tValidation Loss: 0.0029\n",
            "\t\tTraining Accuracy: 100.00%\t Validation Accuracy: 100.00%\n",
            "\n",
            "Epoch: 314 \tTraining Loss: 0.0060 \tValidation Loss: 0.0029\n",
            "\t\tTraining Accuracy: 100.00%\t Validation Accuracy: 100.00%\n",
            "\n",
            "Epoch: 315 \tTraining Loss: 0.0737 \tValidation Loss: 0.0029\n",
            "\t\tTraining Accuracy: 100.00%\t Validation Accuracy: 100.00%\n",
            "\n",
            "Epoch: 316 \tTraining Loss: 0.2075 \tValidation Loss: 0.0029\n",
            "\t\tTraining Accuracy: 80.00%\t Validation Accuracy: 100.00%\n",
            "\n",
            "Epoch: 317 \tTraining Loss: 0.0118 \tValidation Loss: 0.0029\n",
            "\t\tTraining Accuracy: 100.00%\t Validation Accuracy: 100.00%\n",
            "\n",
            "Epoch: 318 \tTraining Loss: 0.0409 \tValidation Loss: 0.0029\n",
            "\t\tTraining Accuracy: 100.00%\t Validation Accuracy: 100.00%\n",
            "\n",
            "Epoch: 319 \tTraining Loss: 0.0684 \tValidation Loss: 0.0029\n",
            "\t\tTraining Accuracy: 100.00%\t Validation Accuracy: 100.00%\n",
            "\n",
            "Epoch: 320 \tTraining Loss: 0.0020 \tValidation Loss: 0.0029\n",
            "\t\tTraining Accuracy: 100.00%\t Validation Accuracy: 100.00%\n",
            "\n",
            "Early Stopping! Total epochs: 320. Best epoch: 317 with loss: 0.00 and acc: 100.00%\n",
            "171.45 total seconds elapsed. 0.53 seconds per epoch.\n"
          ]
        }
      ]
    },
    {
      "cell_type": "markdown",
      "metadata": {
        "id": "n5oRuk5hSEYx"
      },
      "source": [
        "Now, we can check the losses and accuracy during the training."
      ]
    },
    {
      "cell_type": "code",
      "metadata": {
        "id": "-yJuZ4W2SD1W",
        "colab": {
          "base_uri": "https://localhost:8080/",
          "height": 686
        },
        "outputId": "e03bf601-5814-491e-985b-d1bd58651834"
      },
      "source": [
        "plt.figure(figsize=(8, 6))\n",
        "for c in ['train_loss', 'valid_loss']:\n",
        "    plt.plot(\n",
        "        history[c], label=c)\n",
        "plt.legend()\n",
        "plt.xlabel('Epoch')\n",
        "plt.ylabel('Average Negative Log Likelihood')\n",
        "plt.title('Training and Validation Losses')\n",
        "plt.show()"
      ],
      "execution_count": 13,
      "outputs": [
        {
          "output_type": "execute_result",
          "data": {
            "text/plain": [
              "<Figure size 800x600 with 0 Axes>"
            ]
          },
          "metadata": {},
          "execution_count": 13
        },
        {
          "output_type": "execute_result",
          "data": {
            "text/plain": [
              "[<matplotlib.lines.Line2D at 0x7af933912260>]"
            ]
          },
          "metadata": {},
          "execution_count": 13
        },
        {
          "output_type": "execute_result",
          "data": {
            "text/plain": [
              "[<matplotlib.lines.Line2D at 0x7af933912710>]"
            ]
          },
          "metadata": {},
          "execution_count": 13
        },
        {
          "output_type": "execute_result",
          "data": {
            "text/plain": [
              "<matplotlib.legend.Legend at 0x7af93384ae60>"
            ]
          },
          "metadata": {},
          "execution_count": 13
        },
        {
          "output_type": "execute_result",
          "data": {
            "text/plain": [
              "Text(0.5, 0, 'Epoch')"
            ]
          },
          "metadata": {},
          "execution_count": 13
        },
        {
          "output_type": "execute_result",
          "data": {
            "text/plain": [
              "Text(0, 0.5, 'Average Negative Log Likelihood')"
            ]
          },
          "metadata": {},
          "execution_count": 13
        },
        {
          "output_type": "execute_result",
          "data": {
            "text/plain": [
              "Text(0.5, 1.0, 'Training and Validation Losses')"
            ]
          },
          "metadata": {},
          "execution_count": 13
        },
        {
          "output_type": "display_data",
          "data": {
            "text/plain": [
              "<Figure size 800x600 with 1 Axes>"
            ],
            "image/png": "[encoded data removed]"
          },
          "metadata": {}
        }
      ]
    },
    {
      "cell_type": "code",
      "metadata": {
        "id": "nT_VflxLSPca",
        "colab": {
          "base_uri": "https://localhost:8080/",
          "height": 686
        },
        "outputId": "4161b895-fb51-46ca-f698-a9ed9fa7cdb8"
      },
      "source": [
        "plt.figure(figsize=(8, 6))\n",
        "for c in ['train_acc', 'valid_acc']:\n",
        "    plt.plot(\n",
        "        100 * history[c], label=c)\n",
        "plt.legend()\n",
        "plt.xlabel('Epoch')\n",
        "plt.ylabel('Average Accuracy')\n",
        "plt.title('Training and Validation Accuracy')\n",
        "plt.show()"
      ],
      "execution_count": 14,
      "outputs": [
        {
          "output_type": "execute_result",
          "data": {
            "text/plain": [
              "<Figure size 800x600 with 0 Axes>"
            ]
          },
          "metadata": {},
          "execution_count": 14
        },
        {
          "output_type": "execute_result",
          "data": {
            "text/plain": [
              "[<matplotlib.lines.Line2D at 0x7af92f6210f0>]"
            ]
          },
          "metadata": {},
          "execution_count": 14
        },
        {
          "output_type": "execute_result",
          "data": {
            "text/plain": [
              "[<matplotlib.lines.Line2D at 0x7af92f6214b0>]"
            ]
          },
          "metadata": {},
          "execution_count": 14
        },
        {
          "output_type": "execute_result",
          "data": {
            "text/plain": [
              "<matplotlib.legend.Legend at 0x7af933913c10>"
            ]
          },
          "metadata": {},
          "execution_count": 14
        },
        {
          "output_type": "execute_result",
          "data": {
            "text/plain": [
              "Text(0.5, 0, 'Epoch')"
            ]
          },
          "metadata": {},
          "execution_count": 14
        },
        {
          "output_type": "execute_result",
          "data": {
            "text/plain": [
              "Text(0, 0.5, 'Average Accuracy')"
            ]
          },
          "metadata": {},
          "execution_count": 14
        },
        {
          "output_type": "execute_result",
          "data": {
            "text/plain": [
              "Text(0.5, 1.0, 'Training and Validation Accuracy')"
            ]
          },
          "metadata": {},
          "execution_count": 14
        },
        {
          "output_type": "display_data",
          "data": {
            "text/plain": [
              "<Figure size 800x600 with 1 Axes>"
            ],
            "image/png": "[encoded data removed]"
          },
          "metadata": {}
        }
      ]
    },
    {
      "cell_type": "markdown",
      "metadata": {
        "id": "FQyFOOa_SUZB"
      },
      "source": [
        "### Train a Network With Cifar-10 Data\n",
        "Now we may use the cifar-10 dataset to train our model. First, we will load the cifar-10 dataset."
      ]
    },
    {
      "cell_type": "code",
      "source": [
        "%cd datasets"
      ],
      "metadata": {
        "colab": {
          "base_uri": "https://localhost:8080/",
          "height": 0
        },
        "id": "CNgVl5XAmpuw",
        "outputId": "7c0ccfb5-3acd-4fb9-84b1-e493e60dcde4"
      },
      "execution_count": 15,
      "outputs": [
        {
          "output_type": "stream",
          "name": "stdout",
          "text": [
            "/content/gdrive/MyDrive/Colab Notebooks/HW3_Full/datasets\n"
          ]
        }
      ]
    },
    {
      "cell_type": "code",
      "source": [
        "mt = 'bmodel'"
      ],
      "metadata": {
        "id": "vfsDeuLq7f0M"
      },
      "execution_count": 16,
      "outputs": []
    },
    {
      "cell_type": "code",
      "metadata": {
        "colab": {
          "base_uri": "https://localhost:8080/",
          "height": 0
        },
        "id": "fID7AMV0TZUO",
        "outputId": "ce11831c-7fba-4d18-a22e-bfdd6f202c50"
      },
      "source": [
        "def get_CIFAR10_data(num_training=49000, num_validation=1000, num_test=1000):\n",
        "    \"\"\"\n",
        "    Load the CIFAR-10 dataset from disk and perform preprocessing to prepare\n",
        "    it for the two-layer neural net classifier.\n",
        "    \"\"\"\n",
        "    # Load the raw CIFAR-10 data\n",
        "    cifar10_dir = '.'\n",
        "\n",
        "    X_train, y_train, X_test, y_test = load_CIFAR10(cifar10_dir)\n",
        "\n",
        "    # Subsample the data\n",
        "    mask = list(range(num_training, num_training + num_validation))\n",
        "    X_val = X_train[mask]\n",
        "    y_val = y_train[mask]\n",
        "    mask = list(range(num_training))\n",
        "    X_train = X_train[mask]\n",
        "    y_train = y_train[mask]\n",
        "    mask = list(range(num_test))\n",
        "    X_test = X_test[mask]\n",
        "    y_test = y_test[mask]\n",
        "\n",
        "    # Normalize the data: subtract the mean image\n",
        "    mean_image = np.mean(X_train, axis=0)\n",
        "    X_train -= mean_image\n",
        "    X_val -= mean_image\n",
        "    X_test -= mean_image\n",
        "\n",
        "    # Reshape data to rows\n",
        "    X_train = X_train.reshape(num_training, -1)\n",
        "    X_val = X_val.reshape(num_validation, -1)\n",
        "    X_test = X_test.reshape(num_test, -1)\n",
        "\n",
        "    return X_train, y_train, X_val, y_val, X_test, y_test\n",
        "\n",
        "\n",
        "# Cleaning up variables to prevent loading data multiple times (which may cause memory issue)\n",
        "try:\n",
        "   del X_train, y_train\n",
        "   del X_test, y_test\n",
        "   print('Clear previously loaded data.')\n",
        "except:\n",
        "   pass\n",
        "\n",
        "# Invoke the above function to get our data.\n",
        "train_X, train_Y, validation_X, validation_Y, test_X, test_Y = get_CIFAR10_data()\n",
        "print('Train data shape: ', train_X.shape)\n",
        "print('Train labels shape: ', train_Y.shape)\n",
        "print('Validation data shape: ', validation_X.shape)\n",
        "print('Validation labels shape: ', validation_Y.shape)\n",
        "print('Test data shape: ', test_X.shape)\n",
        "print('Test labels shape: ', test_Y.shape)"
      ],
      "execution_count": 17,
      "outputs": [
        {
          "output_type": "stream",
          "name": "stdout",
          "text": [
            "Train data shape:  (49000, 3072)\n",
            "Train labels shape:  (49000,)\n",
            "Validation data shape:  (1000, 3072)\n",
            "Validation labels shape:  (1000,)\n",
            "Test data shape:  (1000, 3072)\n",
            "Test labels shape:  (1000,)\n"
          ]
        }
      ]
    },
    {
      "cell_type": "markdown",
      "metadata": {
        "id": "9mJ6CTNDTbXq"
      },
      "source": [
        "Since Cifar-10 has a larger size of data, which is harder to train, we need to increase our network parameters to solve this task.\n"
      ]
    },
    {
      "cell_type": "code",
      "metadata": {
        "id": "qTmBf_03TD2J"
      },
      "source": [
        "input_size = 32 * 32 * 3\n",
        "hidden_size = 50\n",
        "num_classes = 10\n",
        "\n",
        "model = bmodel(input_size, hidden_size, num_classes)"
      ],
      "execution_count": 18,
      "outputs": []
    },
    {
      "cell_type": "markdown",
      "metadata": {
        "id": "kUvAVk2dULUx"
      },
      "source": [
        "Use the same chunk above to organize our new data. Now we may need a bigger batch_size for training."
      ]
    },
    {
      "cell_type": "code",
      "metadata": {
        "colab": {
          "base_uri": "https://localhost:8080/",
          "height": 0
        },
        "id": "uz8yZR95UHq9",
        "outputId": "09151562-5ae7-4f42-963d-ecfa7144cebd"
      },
      "source": [
        "# Datasets from folders\n",
        "batch_size = 16\n",
        "# Transfer the data from numpy to tensor\n",
        "data = {\n",
        "    'train':\n",
        "    TensorDataset(torch.from_numpy(train_X).float(), torch.from_numpy(train_Y).float()),\n",
        "    'valid':\n",
        "    ######################\n",
        "    ### YOUR CODE HERE ###\n",
        "    ######################\n",
        "    TensorDataset(torch.from_numpy(validation_X).float(), torch.from_numpy(validation_Y).float()),\n",
        "    #####################\n",
        "    ### YOUR CODE END ###\n",
        "    #####################\n",
        "\n",
        "}\n",
        "\n",
        "\n",
        "# Dataloader iterators, make sure to shuffle\n",
        "dataloaders = {\n",
        "    'train': DataLoader(data['train'], batch_size=batch_size, shuffle=True,num_workers=10),\n",
        "    'valid':\n",
        "    ######################\n",
        "    ### YOUR CODE HERE ###\n",
        "    ######################\n",
        "    DataLoader(data['valid'], batch_size=batch_size, shuffle=True,num_workers=10),\n",
        "    ######################\n",
        "    ### YOUR CODE END ###\n",
        "    ######################\n",
        "}\n",
        "\n",
        "\n",
        "# Iterate through the dataloader once\n",
        "trainiter = iter(dataloaders['train'])\n",
        "features, labels = next(trainiter)\n",
        "features.shape, labels.shape"
      ],
      "execution_count": 19,
      "outputs": [
        {
          "output_type": "execute_result",
          "data": {
            "text/plain": [
              "(torch.Size([16, 3072]), torch.Size([16]))"
            ]
          },
          "metadata": {},
          "execution_count": 19
        }
      ]
    },
    {
      "cell_type": "markdown",
      "metadata": {
        "id": "LVBJq6SCYAV5"
      },
      "source": [
        "Set up our criterion and optimizer for the new model."
      ]
    },
    {
      "cell_type": "code",
      "metadata": {
        "id": "pTpFzjGxX8cP"
      },
      "source": [
        "# Set up your criterion and optimizer\n",
        "######################\n",
        "### YOUR CODE HERE ###\n",
        "######################\n",
        "criterion = nn.CrossEntropyLoss()\n",
        "optimizer = optim.Adam(model.parameters(), lr=0.001)\n",
        "#####################\n",
        "### YOUR CODE END ###\n",
        "#####################"
      ],
      "execution_count": 20,
      "outputs": []
    },
    {
      "cell_type": "markdown",
      "metadata": {
        "id": "QfOM_4BkUiio"
      },
      "source": [
        "Train your new network and get the results. At this time, the training process may need more time."
      ]
    },
    {
      "cell_type": "code",
      "metadata": {
        "id": "feL2jumrUhRJ",
        "colab": {
          "base_uri": "https://localhost:8080/",
          "height": 0
        },
        "outputId": "dfe52851-ab64-4f5e-d8e7-d55403d6490e"
      },
      "source": [
        "from timeit import default_timer as timer\n",
        "save_file_name = f'cifar_model_best_model.pt'\n",
        "train_on_gpu = cuda.is_available()\n",
        "\n",
        "model, history = train(model,\n",
        "    criterion,\n",
        "    optimizer,\n",
        "    dataloaders['train'],\n",
        "    dataloaders['valid'],\n",
        "    save_file_name=save_file_name,\n",
        "    max_epochs_stop=3,\n",
        "    n_epochs=500,\n",
        "    print_every=1)"
      ],
      "execution_count": 21,
      "outputs": [
        {
          "output_type": "stream",
          "name": "stdout",
          "text": [
            "Starting Training from Scratch.\n",
            "\n",
            "\n",
            "Epoch: 0 \tTraining Loss: 8.1024 \tValidation Loss: 2.1720\n",
            "\t\tTraining Accuracy: 27.64%\t Validation Accuracy: 30.80%\n",
            "\n",
            "Epoch: 1 \tTraining Loss: 3.0436 \tValidation Loss: 3.1773\n",
            "\t\tTraining Accuracy: 23.66%\t Validation Accuracy: 27.00%\n",
            "\n",
            "Epoch: 2 \tTraining Loss: 3.6165 \tValidation Loss: 3.3234\n",
            "\t\tTraining Accuracy: 22.54%\t Validation Accuracy: 20.30%\n",
            "\n",
            "Epoch: 3 \tTraining Loss: 3.7228 \tValidation Loss: 3.3993\n",
            "\t\tTraining Accuracy: 22.38%\t Validation Accuracy: 24.10%\n",
            "\n",
            "Early Stopping! Total epochs: 3. Best epoch: 0 with loss: 2.17 and acc: 24.10%\n",
            "49.79 total seconds elapsed. 12.45 seconds per epoch.\n"
          ]
        }
      ]
    },
    {
      "cell_type": "markdown",
      "metadata": {
        "id": "jeZ2CzV6YN-2"
      },
      "source": [
        "It seems that the process will end very early since there is no progress during the training. Let's print the results."
      ]
    },
    {
      "cell_type": "code",
      "metadata": {
        "id": "xlzAjeIDUohp",
        "colab": {
          "base_uri": "https://localhost:8080/",
          "height": 686
        },
        "outputId": "9a424c21-ddf5-4df9-ecf4-7dfd8815b95b"
      },
      "source": [
        "plt.figure(figsize=(8, 6))\n",
        "for c in ['train_loss', 'valid_loss']:\n",
        "    plt.plot(\n",
        "        history[c], label=c)\n",
        "plt.legend()\n",
        "plt.xlabel('Epoch')\n",
        "plt.ylabel('Average Negative Log Likelihood')\n",
        "plt.title('Training and Validation Losses')\n",
        "plt.show()"
      ],
      "execution_count": 22,
      "outputs": [
        {
          "output_type": "execute_result",
          "data": {
            "text/plain": [
              "<Figure size 800x600 with 0 Axes>"
            ]
          },
          "metadata": {},
          "execution_count": 22
        },
        {
          "output_type": "execute_result",
          "data": {
            "text/plain": [
              "[<matplotlib.lines.Line2D at 0x7af92f5589d0>]"
            ]
          },
          "metadata": {},
          "execution_count": 22
        },
        {
          "output_type": "execute_result",
          "data": {
            "text/plain": [
              "[<matplotlib.lines.Line2D at 0x7af92f558dc0>]"
            ]
          },
          "metadata": {},
          "execution_count": 22
        },
        {
          "output_type": "execute_result",
          "data": {
            "text/plain": [
              "<matplotlib.legend.Legend at 0x7af7eb4e5ab0>"
            ]
          },
          "metadata": {},
          "execution_count": 22
        },
        {
          "output_type": "execute_result",
          "data": {
            "text/plain": [
              "Text(0.5, 0, 'Epoch')"
            ]
          },
          "metadata": {},
          "execution_count": 22
        },
        {
          "output_type": "execute_result",
          "data": {
            "text/plain": [
              "Text(0, 0.5, 'Average Negative Log Likelihood')"
            ]
          },
          "metadata": {},
          "execution_count": 22
        },
        {
          "output_type": "execute_result",
          "data": {
            "text/plain": [
              "Text(0.5, 1.0, 'Training and Validation Losses')"
            ]
          },
          "metadata": {},
          "execution_count": 22
        },
        {
          "output_type": "display_data",
          "data": {
            "text/plain": [
              "<Figure size 800x600 with 1 Axes>"
            ],
            "image/png": "[encoded data removed]"
          },
          "metadata": {}
        }
      ]
    },
    {
      "cell_type": "code",
      "metadata": {
        "id": "nwjRiBhWUsdy",
        "colab": {
          "base_uri": "https://localhost:8080/",
          "height": 686
        },
        "outputId": "08818341-6081-4107-fe74-ca5c5238b6a3"
      },
      "source": [
        "plt.figure(figsize=(8, 6))\n",
        "for c in ['train_acc', 'valid_acc']:\n",
        "    plt.plot(\n",
        "        100 * history[c], label=c)\n",
        "plt.legend()\n",
        "plt.xlabel('Epoch')\n",
        "plt.ylabel('Average Accuracy')\n",
        "plt.title('Training and Validation Accuracy')\n",
        "plt.show()"
      ],
      "execution_count": 23,
      "outputs": [
        {
          "output_type": "execute_result",
          "data": {
            "text/plain": [
              "<Figure size 800x600 with 0 Axes>"
            ]
          },
          "metadata": {},
          "execution_count": 23
        },
        {
          "output_type": "execute_result",
          "data": {
            "text/plain": [
              "[<matplotlib.lines.Line2D at 0x7af92f5d4ca0>]"
            ]
          },
          "metadata": {},
          "execution_count": 23
        },
        {
          "output_type": "execute_result",
          "data": {
            "text/plain": [
              "[<matplotlib.lines.Line2D at 0x7af92f5d4fd0>]"
            ]
          },
          "metadata": {},
          "execution_count": 23
        },
        {
          "output_type": "execute_result",
          "data": {
            "text/plain": [
              "<matplotlib.legend.Legend at 0x7af92f68fe20>"
            ]
          },
          "metadata": {},
          "execution_count": 23
        },
        {
          "output_type": "execute_result",
          "data": {
            "text/plain": [
              "Text(0.5, 0, 'Epoch')"
            ]
          },
          "metadata": {},
          "execution_count": 23
        },
        {
          "output_type": "execute_result",
          "data": {
            "text/plain": [
              "Text(0, 0.5, 'Average Accuracy')"
            ]
          },
          "metadata": {},
          "execution_count": 23
        },
        {
          "output_type": "execute_result",
          "data": {
            "text/plain": [
              "Text(0.5, 1.0, 'Training and Validation Accuracy')"
            ]
          },
          "metadata": {},
          "execution_count": 23
        },
        {
          "output_type": "display_data",
          "data": {
            "text/plain": [
              "<Figure size 800x600 with 1 Axes>"
            ],
            "image/png": "[encoded data removed]"
          },
          "metadata": {}
        }
      ]
    },
    {
      "cell_type": "markdown",
      "metadata": {
        "id": "fhsY7oawmNWu"
      },
      "source": [
        "##Task 4: Improve The Performance\n",
        "As we have known in HW2, a two-layer-network can not get a good performance. Here, we may (1) add more layers to make the network deeper, or (2) replace your bmodel() with networks provided by PyTorch. https://pytorch.org/vision/0.8/models.html\n",
        "You just need to do one of these two options.\n",
        "\n",
        "You can reuse the code you have from Task 2 and 3"
      ]
    },
    {
      "cell_type": "code",
      "source": [
        "######################\n",
        "### YOUR CODE HERE ###\n",
        "######################"
      ],
      "metadata": {
        "id": "zTW2pDIcEpvA"
      },
      "execution_count": null,
      "outputs": []
    },
    {
      "cell_type": "markdown",
      "source": [
        "I will implement ResNet18 fro CIFAR-10 classification. ResNet18 provides a robust architecture that is able to handle deeper networks through residual connections, mitigating the vanishing gradient problem. I had to adapt the model to CIFAR-10's image size and number of classes, ensuring the final fully connected lay outputs 10 classes. I also integrated a learning rate scheduler and early stopping in out training process to enhance model training and prevent overfitting"
      ],
      "metadata": {
        "id": "SdPcw-Ofepn6"
      }
    },
    {
      "cell_type": "code",
      "source": [
        "from torchvision.models import resnet18, ResNet18_Weights"
      ],
      "metadata": {
        "id": "EVy-yQ94tCHu"
      },
      "execution_count": 24,
      "outputs": []
    },
    {
      "cell_type": "code",
      "source": [
        "def train2(model,\n",
        "           criterion,\n",
        "           optimizer,\n",
        "           train_loader,\n",
        "           valid_loader,\n",
        "           save_file_name,\n",
        "           max_epochs_stop=3,\n",
        "           n_epochs=10,\n",
        "           print_every=1,\n",
        "           scheduler=None):\n",
        "    \"\"\"Train a PyTorch Model 2\n",
        "\n",
        "     Params\n",
        "    --------\n",
        "        model (PyTorch model): cnn to train\n",
        "        criterion (PyTorch loss): objective to minimize\n",
        "        optimizer (PyTorch optimizier): optimizer to compute gradients of model parameters\n",
        "        train_loader (PyTorch dataloader): training dataloader to iterate through\n",
        "        valid_loader (PyTorch dataloader): validation dataloader used for early stopping\n",
        "        save_file_name (str ending in '.pt'): file path to save the model state dict\n",
        "        max_epochs_stop (int): maximum number of epochs with no improvement in validation loss for early stopping\n",
        "        n_epochs (int): maximum number of training epochs\n",
        "        print_every (int): frequency of epochs to print training stats\n",
        "\n",
        "    Returns\n",
        "    --------\n",
        "        model (PyTorch model): trained cnn with best weights\n",
        "        history (DataFrame): history of train and validation loss and accuracy\n",
        "    \"\"\"\n",
        "\n",
        "    # Initialization\n",
        "    epochs_no_improve = 0\n",
        "    valid_loss_min = np.inf\n",
        "\n",
        "    valid_best_acc = 0\n",
        "    history = []\n",
        "\n",
        "    # GPU available?\n",
        "    device = torch.device(\"cuda:0\" if torch.cuda.is_available() else \"cpu\")\n",
        "    model.to(device)\n",
        "\n",
        "    overall_start = timer()\n",
        "\n",
        "    best_epoch = 0\n",
        "\n",
        "    # Main loop\n",
        "    for epoch in range(n_epochs):\n",
        "\n",
        "        # Set to training\n",
        "        model.train()\n",
        "\n",
        "        # keep track of training and validation loss each epoch\n",
        "        train_loss = 0.0\n",
        "        train_acc = 0.0\n",
        "\n",
        "        for data, target in train_loader:\n",
        "            # target = target.type(torch.LongTensor)\n",
        "            data, target = data.to(device), target.to(device)\n",
        "\n",
        "            optimizer.zero_grad()\n",
        "\n",
        "            output = model(data)\n",
        "            loss = criterion(output, target.long())\n",
        "            loss.backward()\n",
        "\n",
        "            optimizer.step()\n",
        "\n",
        "            train_loss += loss.item() * data.size(0)\n",
        "\n",
        "            _, pred = torch.max(output, dim=1)\n",
        "            correct_tensor = pred.eq(target.data.view_as(pred))\n",
        "            accuracy = torch.mean(correct_tensor.type(torch.FloatTensor))\n",
        "            train_acc += accuracy.item() * data.size(0)\n",
        "\n",
        "        # Validation phase\n",
        "        model.eval()\n",
        "        valid_loss = 0.0\n",
        "        valid_acc = 0.0\n",
        "        with torch.no_grad():\n",
        "            for data, target in valid_loader:\n",
        "                # target = target.type(torch.LongTensor)\n",
        "                data, target = data.to(device), target.to(device)\n",
        "\n",
        "                output = model(data)\n",
        "                loss = criterion(output, target)\n",
        "\n",
        "                valid_loss += loss.item() * data.size(0)\n",
        "\n",
        "                _, pred = torch.max(output, dim=1)\n",
        "                correct_tensor = pred.eq(target.data.view_as(pred))\n",
        "                accuracy = torch.mean(correct_tensor.type(torch.FloatTensor))\n",
        "\n",
        "                valid_acc += accuracy.item() * data.size(0)\n",
        "\n",
        "        # Calculate average losses and accuracy\n",
        "        train_loss = train_loss / len(train_loader.dataset)\n",
        "        valid_loss = valid_loss / len(valid_loader.dataset)\n",
        "        train_acc = train_acc / len(train_loader.dataset)\n",
        "        valid_acc = valid_acc / len(valid_loader.dataset)\n",
        "        history.append([train_loss, valid_loss, train_acc, valid_acc])\n",
        "\n",
        "        # Print training and validation results\n",
        "        if (epoch + 1) % print_every == 0:\n",
        "            print(f'\\nEpoch: {epoch} \\tTraining Loss: {train_loss:.4f} \\tValidation Loss: {valid_loss:.4f}')\n",
        "            print(f'\\tTraining Accuracy: {100 * train_acc:.2f}%\\t Validation Accuracy: {100 * valid_acc:.2f}%')\n",
        "\n",
        "        if valid_loss < valid_loss_min:\n",
        "            torch.save(model.state_dict(), save_file_name)\n",
        "            epochs_no_improve = 0\n",
        "            valid_loss_min = valid_loss\n",
        "            best_epoch = epoch\n",
        "        else:\n",
        "            epochs_no_improve += 1\n",
        "            if epochs_no_improve >= max_epochs_stop:\n",
        "                print(f'\\nEarly Stopping! Total epochs: {epoch}. Best epoch: {best_epoch} with loss: {valid_loss_min:.2f} and acc: {100 * valid_acc:.2f}%')\n",
        "                break\n",
        "\n",
        "        # Step the scheduler after each epoch\n",
        "        if scheduler:\n",
        "            scheduler.step()\n",
        "\n",
        "    print(f'\\nBest epoch: {best_epoch} with loss: {valid_loss_min:.2f} and acc: {100 * valid_best_acc:.2f}%')\n",
        "    history = pd.DataFrame(history, columns=['train_loss', 'valid_loss', 'train_acc', 'valid_acc'])\n",
        "    return model, history"
      ],
      "metadata": {
        "id": "RwDdPbQyGg87"
      },
      "execution_count": 96,
      "outputs": []
    },
    {
      "cell_type": "code",
      "source": [
        "mt = 'resnet18'"
      ],
      "metadata": {
        "id": "W1nibSht7kWQ"
      },
      "execution_count": 44,
      "outputs": []
    },
    {
      "cell_type": "code",
      "source": [
        "def get_CIFAR10_data2(num_training=49000, num_validation=1000, num_test=1000):\n",
        "    \"\"\"\n",
        "    Load the CIFAR-10 dataset from disk and perform preprocessing to prepare\n",
        "    it for the two-layer neural net classifier.\n",
        "    \"\"\"\n",
        "    # Load the raw CIFAR-10 data\n",
        "    cifar10_dir = '.'\n",
        "\n",
        "    X_train, y_train, X_test, y_test = load_CIFAR10(cifar10_dir)\n",
        "\n",
        "    # Subsample the data\n",
        "    mask = list(range(num_training, num_training + num_validation))\n",
        "    X_val = X_train[mask]\n",
        "    y_val = y_train[mask]\n",
        "    mask = list(range(num_training))\n",
        "    X_train = X_train[mask]\n",
        "    y_train = y_train[mask]\n",
        "    mask = list(range(num_test))\n",
        "    X_test = X_test[mask]\n",
        "    y_test = y_test[mask]\n",
        "\n",
        "\n",
        "    # Normalize the data: subtract the mean image\n",
        "    mean_image = np.mean(X_train, axis=0)\n",
        "    X_train -= mean_image\n",
        "    X_val -= mean_image\n",
        "    X_test -= mean_image\n",
        "\n",
        "    return X_train, y_train, X_val, y_val, X_test, y_test"
      ],
      "metadata": {
        "id": "8dAHJwtH3c13"
      },
      "execution_count": 104,
      "outputs": []
    },
    {
      "cell_type": "code",
      "source": [
        "# Cleaning up variables to prevent loading data multiple times (which may cause memory issue)\n",
        "try:\n",
        "   del X_train, y_train\n",
        "   del X_test, y_test\n",
        "   del criterion, optimizer\n",
        "   del model\n",
        "   print('Clear previously loaded data.')\n",
        "except:\n",
        "   pass\n",
        "\n",
        "# Invoke the above function to get our data.\n",
        "train_X, train_Y, validation_X, validation_Y, test_X, test_Y = get_CIFAR10_data2()\n",
        "print('Train data shape: ', train_X.shape)\n",
        "print('Train labels shape: ', train_Y.shape)\n",
        "print('Validation data shape: ', validation_X.shape)\n",
        "print('Validation labels shape: ', validation_Y.shape)\n",
        "print('Test data shape: ', test_X.shape)\n",
        "print('Test labels shape: ', test_Y.shape)"
      ],
      "metadata": {
        "colab": {
          "base_uri": "https://localhost:8080/",
          "height": 0
        },
        "id": "AzZZ9rmlERWQ",
        "outputId": "37072e34-c8dd-4585-daeb-a69ce5c3afe4"
      },
      "execution_count": 111,
      "outputs": [
        {
          "output_type": "stream",
          "name": "stdout",
          "text": [
            "Train data shape:  (49000, 3, 32, 32)\n",
            "Train labels shape:  (49000,)\n",
            "Validation data shape:  (1000, 3, 32, 32)\n",
            "Validation labels shape:  (1000,)\n",
            "Test data shape:  (1000, 3, 32, 32)\n",
            "Test labels shape:  (1000,)\n"
          ]
        }
      ]
    },
    {
      "cell_type": "code",
      "source": [
        "batch_size = 64\n",
        "\n",
        "# Load the datasets with the transformations\n",
        "train_dataset = TensorDataset(torch.from_numpy(train_X).float(), torch.from_numpy(train_Y).long())\n",
        "valid_dataset = TensorDataset(torch.from_numpy(validation_X).float(), torch.from_numpy(validation_Y).long())\n",
        "\n",
        "\n",
        "# Modify the final fully connected layer to match the number of classes (10 for CIFAR-10)\n",
        "weights = ResNet18_Weights.DEFAULT\n",
        "model = resnet18(weights=weights)\n",
        "num_ftrs = model.fc.in_features\n",
        "model.fc = nn.Linear(num_ftrs, 10)\n",
        "\n",
        "criterion = nn.CrossEntropyLoss()\n",
        "optimizer = optim.Adam(model.parameters(), lr=0.01, weight_decay=1e-4)\n",
        "scheduler = torch.optim.lr_scheduler.StepLR(optimizer, step_size=10, gamma=0.1)\n",
        "\n",
        "from timeit import default_timer as timer\n",
        "save_file_name = f'cifar_model_best_model.pt'\n",
        "train_on_gpu = cuda.is_available()\n",
        "\n",
        "# Create the DataLoader objects\n",
        "dataloaders2 = {\n",
        "    'train': DataLoader(train_dataset, batch_size=batch_size, shuffle=True, num_workers=2),\n",
        "    'valid': DataLoader(valid_dataset, batch_size=batch_size, shuffle=False, num_workers=2)\n",
        "}\n",
        "\n",
        "model, history = train2(model,\n",
        "    criterion,\n",
        "    optimizer,\n",
        "    dataloaders2['train'],\n",
        "    dataloaders2['valid'],\n",
        "    save_file_name=save_file_name,\n",
        "    max_epochs_stop=25,\n",
        "    n_epochs=500,\n",
        "    print_every=1,\n",
        "    scheduler=scheduler)"
      ],
      "metadata": {
        "colab": {
          "base_uri": "https://localhost:8080/",
          "height": 0
        },
        "outputId": "320bbe68-c7d8-4eba-83fb-c2a5b88765b8",
        "id": "fAgTV9bppn4t"
      },
      "execution_count": 116,
      "outputs": [
        {
          "output_type": "stream",
          "name": "stdout",
          "text": [
            "\n",
            "Epoch: 0 \tTraining Loss: 2.2121 \tValidation Loss: 1.8654\n",
            "\tTraining Accuracy: 27.77%\t Validation Accuracy: 34.80%\n",
            "\n",
            "Epoch: 1 \tTraining Loss: 1.6072 \tValidation Loss: 1.6620\n",
            "\tTraining Accuracy: 40.59%\t Validation Accuracy: 42.60%\n",
            "\n",
            "Epoch: 2 \tTraining Loss: 1.4999 \tValidation Loss: 1.7176\n",
            "\tTraining Accuracy: 45.07%\t Validation Accuracy: 40.90%\n",
            "\n",
            "Epoch: 3 \tTraining Loss: 1.4352 \tValidation Loss: 1.4907\n",
            "\tTraining Accuracy: 47.47%\t Validation Accuracy: 45.80%\n",
            "\n",
            "Epoch: 4 \tTraining Loss: 1.4058 \tValidation Loss: 1.6546\n",
            "\tTraining Accuracy: 49.00%\t Validation Accuracy: 43.50%\n",
            "\n",
            "Epoch: 5 \tTraining Loss: 1.3905 \tValidation Loss: 1.4443\n",
            "\tTraining Accuracy: 49.54%\t Validation Accuracy: 48.90%\n",
            "\n",
            "Epoch: 6 \tTraining Loss: 1.3824 \tValidation Loss: 1.3222\n",
            "\tTraining Accuracy: 50.47%\t Validation Accuracy: 51.70%\n",
            "\n",
            "Epoch: 7 \tTraining Loss: 1.3661 \tValidation Loss: 1.7245\n",
            "\tTraining Accuracy: 50.80%\t Validation Accuracy: 42.30%\n",
            "\n",
            "Epoch: 8 \tTraining Loss: 1.3509 \tValidation Loss: 1.6279\n",
            "\tTraining Accuracy: 51.67%\t Validation Accuracy: 46.40%\n",
            "\n",
            "Epoch: 9 \tTraining Loss: 1.3320 \tValidation Loss: 1.4275\n",
            "\tTraining Accuracy: 52.27%\t Validation Accuracy: 49.30%\n",
            "\n",
            "Epoch: 10 \tTraining Loss: 1.1086 \tValidation Loss: 1.0423\n",
            "\tTraining Accuracy: 60.64%\t Validation Accuracy: 62.70%\n",
            "\n",
            "Epoch: 11 \tTraining Loss: 1.0471 \tValidation Loss: 1.0515\n",
            "\tTraining Accuracy: 63.02%\t Validation Accuracy: 62.60%\n",
            "\n",
            "Epoch: 12 \tTraining Loss: 1.0118 \tValidation Loss: 0.9834\n",
            "\tTraining Accuracy: 63.81%\t Validation Accuracy: 64.90%\n",
            "\n",
            "Epoch: 13 \tTraining Loss: 0.9827 \tValidation Loss: 0.9979\n",
            "\tTraining Accuracy: 65.17%\t Validation Accuracy: 64.50%\n",
            "\n",
            "Epoch: 14 \tTraining Loss: 0.9616 \tValidation Loss: 0.9726\n",
            "\tTraining Accuracy: 65.97%\t Validation Accuracy: 64.30%\n",
            "\n",
            "Epoch: 15 \tTraining Loss: 0.9439 \tValidation Loss: 0.9734\n",
            "\tTraining Accuracy: 66.60%\t Validation Accuracy: 63.10%\n",
            "\n",
            "Epoch: 16 \tTraining Loss: 0.9332 \tValidation Loss: 0.9806\n",
            "\tTraining Accuracy: 66.99%\t Validation Accuracy: 64.90%\n",
            "\n",
            "Epoch: 17 \tTraining Loss: 0.9220 \tValidation Loss: 0.9314\n",
            "\tTraining Accuracy: 67.41%\t Validation Accuracy: 66.40%\n",
            "\n",
            "Epoch: 18 \tTraining Loss: 0.9078 \tValidation Loss: 0.9624\n",
            "\tTraining Accuracy: 68.12%\t Validation Accuracy: 65.80%\n",
            "\n",
            "Epoch: 19 \tTraining Loss: 0.8986 \tValidation Loss: 0.9741\n",
            "\tTraining Accuracy: 68.19%\t Validation Accuracy: 64.70%\n",
            "\n",
            "Epoch: 20 \tTraining Loss: 0.8174 \tValidation Loss: 0.8793\n",
            "\tTraining Accuracy: 71.33%\t Validation Accuracy: 68.30%\n",
            "\n",
            "Epoch: 21 \tTraining Loss: 0.7957 \tValidation Loss: 0.8816\n",
            "\tTraining Accuracy: 72.11%\t Validation Accuracy: 68.00%\n",
            "\n",
            "Epoch: 22 \tTraining Loss: 0.7895 \tValidation Loss: 0.8793\n",
            "\tTraining Accuracy: 72.34%\t Validation Accuracy: 67.20%\n",
            "\n",
            "Epoch: 23 \tTraining Loss: 0.7819 \tValidation Loss: 0.8837\n",
            "\tTraining Accuracy: 72.52%\t Validation Accuracy: 68.10%\n",
            "\n",
            "Epoch: 24 \tTraining Loss: 0.7787 \tValidation Loss: 0.8865\n",
            "\tTraining Accuracy: 72.70%\t Validation Accuracy: 67.00%\n",
            "\n",
            "Epoch: 25 \tTraining Loss: 0.7755 \tValidation Loss: 0.8916\n",
            "\tTraining Accuracy: 72.81%\t Validation Accuracy: 68.00%\n",
            "\n",
            "Epoch: 26 \tTraining Loss: 0.7685 \tValidation Loss: 0.8864\n",
            "\tTraining Accuracy: 73.02%\t Validation Accuracy: 68.40%\n",
            "\n",
            "Epoch: 27 \tTraining Loss: 0.7650 \tValidation Loss: 0.8848\n",
            "\tTraining Accuracy: 73.12%\t Validation Accuracy: 67.30%\n",
            "\n",
            "Epoch: 28 \tTraining Loss: 0.7625 \tValidation Loss: 0.8811\n",
            "\tTraining Accuracy: 73.15%\t Validation Accuracy: 68.80%\n",
            "\n",
            "Epoch: 29 \tTraining Loss: 0.7583 \tValidation Loss: 0.8918\n",
            "\tTraining Accuracy: 73.35%\t Validation Accuracy: 68.20%\n",
            "\n",
            "Epoch: 30 \tTraining Loss: 0.7449 \tValidation Loss: 0.8845\n",
            "\tTraining Accuracy: 74.11%\t Validation Accuracy: 68.70%\n",
            "\n",
            "Epoch: 31 \tTraining Loss: 0.7425 \tValidation Loss: 0.8870\n",
            "\tTraining Accuracy: 74.00%\t Validation Accuracy: 67.70%\n",
            "\n",
            "Epoch: 32 \tTraining Loss: 0.7438 \tValidation Loss: 0.8820\n",
            "\tTraining Accuracy: 73.95%\t Validation Accuracy: 68.20%\n",
            "\n",
            "Epoch: 33 \tTraining Loss: 0.7443 \tValidation Loss: 0.8847\n",
            "\tTraining Accuracy: 74.10%\t Validation Accuracy: 68.10%\n",
            "\n",
            "Epoch: 34 \tTraining Loss: 0.7442 \tValidation Loss: 0.8820\n",
            "\tTraining Accuracy: 73.97%\t Validation Accuracy: 68.00%\n",
            "\n",
            "Epoch: 35 \tTraining Loss: 0.7429 \tValidation Loss: 0.8839\n",
            "\tTraining Accuracy: 74.00%\t Validation Accuracy: 68.10%\n",
            "\n",
            "Epoch: 36 \tTraining Loss: 0.7413 \tValidation Loss: 0.8864\n",
            "\tTraining Accuracy: 74.01%\t Validation Accuracy: 67.50%\n",
            "\n",
            "Epoch: 37 \tTraining Loss: 0.7420 \tValidation Loss: 0.8856\n",
            "\tTraining Accuracy: 73.95%\t Validation Accuracy: 67.70%\n",
            "\n",
            "Epoch: 38 \tTraining Loss: 0.7397 \tValidation Loss: 0.8803\n",
            "\tTraining Accuracy: 74.12%\t Validation Accuracy: 68.30%\n",
            "\n",
            "Epoch: 39 \tTraining Loss: 0.7420 \tValidation Loss: 0.8836\n",
            "\tTraining Accuracy: 73.91%\t Validation Accuracy: 68.00%\n",
            "\n",
            "Epoch: 40 \tTraining Loss: 0.7370 \tValidation Loss: 0.8804\n",
            "\tTraining Accuracy: 74.30%\t Validation Accuracy: 68.10%\n",
            "\n",
            "Epoch: 41 \tTraining Loss: 0.7375 \tValidation Loss: 0.8873\n",
            "\tTraining Accuracy: 74.32%\t Validation Accuracy: 68.10%\n",
            "\n",
            "Epoch: 42 \tTraining Loss: 0.7393 \tValidation Loss: 0.8865\n",
            "\tTraining Accuracy: 74.25%\t Validation Accuracy: 67.90%\n",
            "\n",
            "Epoch: 43 \tTraining Loss: 0.7368 \tValidation Loss: 0.8817\n",
            "\tTraining Accuracy: 74.24%\t Validation Accuracy: 68.50%\n",
            "\n",
            "Epoch: 44 \tTraining Loss: 0.7340 \tValidation Loss: 0.8837\n",
            "\tTraining Accuracy: 74.36%\t Validation Accuracy: 67.90%\n",
            "\n",
            "Epoch: 45 \tTraining Loss: 0.7375 \tValidation Loss: 0.8848\n",
            "\tTraining Accuracy: 74.28%\t Validation Accuracy: 67.60%\n",
            "\n",
            "Epoch: 46 \tTraining Loss: 0.7379 \tValidation Loss: 0.8845\n",
            "\tTraining Accuracy: 74.10%\t Validation Accuracy: 68.10%\n",
            "\n",
            "Epoch: 47 \tTraining Loss: 0.7392 \tValidation Loss: 0.8798\n",
            "\tTraining Accuracy: 74.23%\t Validation Accuracy: 68.30%\n",
            "\n",
            "Early Stopping! Total epochs: 47. Best epoch: 22 with loss: 0.88 and acc: 68.30%\n",
            "\n",
            "Best epoch: 22 with loss: 0.88 and acc: 0.00%\n"
          ]
        }
      ]
    },
    {
      "cell_type": "code",
      "source": [
        "plt.figure(figsize=(8, 6))\n",
        "for c in ['train_acc', 'valid_acc']:\n",
        "    plt.plot(\n",
        "        100 * history[c], label=c)\n",
        "plt.legend()\n",
        "plt.xlabel('Epoch')\n",
        "plt.ylabel('Average Accuracy')\n",
        "plt.title('Training and Validation Accuracy')\n",
        "plt.show()"
      ],
      "metadata": {
        "colab": {
          "base_uri": "https://localhost:8080/",
          "height": 686
        },
        "id": "YrOCw8rvi1kM",
        "outputId": "c0dacb46-8f26-4243-e710-655a67ab9391"
      },
      "execution_count": 117,
      "outputs": [
        {
          "output_type": "execute_result",
          "data": {
            "text/plain": [
              "<Figure size 800x600 with 0 Axes>"
            ]
          },
          "metadata": {},
          "execution_count": 117
        },
        {
          "output_type": "execute_result",
          "data": {
            "text/plain": [
              "[<matplotlib.lines.Line2D at 0x7af6bda728c0>]"
            ]
          },
          "metadata": {},
          "execution_count": 117
        },
        {
          "output_type": "execute_result",
          "data": {
            "text/plain": [
              "[<matplotlib.lines.Line2D at 0x7af6bda72c50>]"
            ]
          },
          "metadata": {},
          "execution_count": 117
        },
        {
          "output_type": "execute_result",
          "data": {
            "text/plain": [
              "<matplotlib.legend.Legend at 0x7af934f1d990>"
            ]
          },
          "metadata": {},
          "execution_count": 117
        },
        {
          "output_type": "execute_result",
          "data": {
            "text/plain": [
              "Text(0.5, 0, 'Epoch')"
            ]
          },
          "metadata": {},
          "execution_count": 117
        },
        {
          "output_type": "execute_result",
          "data": {
            "text/plain": [
              "Text(0, 0.5, 'Average Accuracy')"
            ]
          },
          "metadata": {},
          "execution_count": 117
        },
        {
          "output_type": "execute_result",
          "data": {
            "text/plain": [
              "Text(0.5, 1.0, 'Training and Validation Accuracy')"
            ]
          },
          "metadata": {},
          "execution_count": 117
        },
        {
          "output_type": "display_data",
          "data": {
            "text/plain": [
              "<Figure size 800x600 with 1 Axes>"
            ],
            "image/png": "[encoded data removed]"
          },
          "metadata": {}
        }
      ]
    },
    {
      "cell_type": "code",
      "source": [
        "plt.figure(figsize=(8, 6))\n",
        "for c in ['train_loss', 'valid_loss']:\n",
        "    plt.plot(\n",
        "        history[c], label=c)\n",
        "plt.legend()\n",
        "plt.xlabel('Epoch')\n",
        "plt.ylabel('Average Negative Log Likelihood')\n",
        "plt.title('Training and Validation Losses')\n",
        "plt.show()"
      ],
      "metadata": {
        "colab": {
          "base_uri": "https://localhost:8080/",
          "height": 686
        },
        "id": "ebIBl94Si2Vu",
        "outputId": "4def01bc-4b1b-4024-97f6-fe58c045b9da"
      },
      "execution_count": 118,
      "outputs": [
        {
          "output_type": "execute_result",
          "data": {
            "text/plain": [
              "<Figure size 800x600 with 0 Axes>"
            ]
          },
          "metadata": {},
          "execution_count": 118
        },
        {
          "output_type": "execute_result",
          "data": {
            "text/plain": [
              "[<matplotlib.lines.Line2D at 0x7af6bc0fc370>]"
            ]
          },
          "metadata": {},
          "execution_count": 118
        },
        {
          "output_type": "execute_result",
          "data": {
            "text/plain": [
              "[<matplotlib.lines.Line2D at 0x7af6bc0fc760>]"
            ]
          },
          "metadata": {},
          "execution_count": 118
        },
        {
          "output_type": "execute_result",
          "data": {
            "text/plain": [
              "<matplotlib.legend.Legend at 0x7af6bdbcbe50>"
            ]
          },
          "metadata": {},
          "execution_count": 118
        },
        {
          "output_type": "execute_result",
          "data": {
            "text/plain": [
              "Text(0.5, 0, 'Epoch')"
            ]
          },
          "metadata": {},
          "execution_count": 118
        },
        {
          "output_type": "execute_result",
          "data": {
            "text/plain": [
              "Text(0, 0.5, 'Average Negative Log Likelihood')"
            ]
          },
          "metadata": {},
          "execution_count": 118
        },
        {
          "output_type": "execute_result",
          "data": {
            "text/plain": [
              "Text(0.5, 1.0, 'Training and Validation Losses')"
            ]
          },
          "metadata": {},
          "execution_count": 118
        },
        {
          "output_type": "display_data",
          "data": {
            "text/plain": [
              "<Figure size 800x600 with 1 Axes>"
            ],
            "image/png": "[encoded data removed]"
          },
          "metadata": {}
        }
      ]
    },
    {
      "cell_type": "code",
      "source": [
        "#####################\n",
        "### YOUR CODE END ###\n",
        "#####################"
      ],
      "metadata": {
        "id": "z5vC10yEEsrG"
      },
      "execution_count": null,
      "outputs": []
    }
  ]
}